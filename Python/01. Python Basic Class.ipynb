{
 "cells": [
  {
   "cell_type": "code",
   "execution_count": 2,
   "metadata": {},
   "outputs": [],
   "source": [
    "import pandas as pd, numpy as np\n",
    "import sys, os\n",
    "from pprint import pprint\n",
    "import random\n",
    "from datetime import datetime, timedelta"
   ]
  },
  {
   "cell_type": "markdown",
   "metadata": {},
   "source": [
    "# Index\n",
    "1. [Loop](#loop)\n",
    "2. [Sorting](#sort)\n",
    "3. [Searching](#search)\n",
    "4. [Regular Expression](#regex)\n",
    "8. [Lambda, Map, Reduce, Filter](#lambda)"
   ]
  },
  {
   "cell_type": "code",
   "execution_count": 3,
   "metadata": {},
   "outputs": [
    {
     "name": "stdout",
     "output_type": "stream",
     "text": [
      "2021-07-01 17:48:21\n",
      "-------------------\n"
     ]
    }
   ],
   "source": [
    "def print_runtime():\n",
    "    print(datetime.now().strftime(\"%Y-%m-%d %H:%M:%S\"))\n",
    "    print(\"-\"*19)\n",
    "print_runtime()"
   ]
  },
  {
   "cell_type": "markdown",
   "metadata": {},
   "source": [
    "# 1. Loop <a id=\"loop\"/>"
   ]
  },
  {
   "cell_type": "code",
   "execution_count": 64,
   "metadata": {},
   "outputs": [],
   "source": [
    "ls_number = np.random.randint(0, 20, size=10)"
   ]
  },
  {
   "cell_type": "code",
   "execution_count": 65,
   "metadata": {},
   "outputs": [
    {
     "name": "stdout",
     "output_type": "stream",
     "text": [
      "array([ 5,  1,  7, 11, 11,  4, 14,  2, 10, 16])\n"
     ]
    }
   ],
   "source": [
    "pprint(ls_number)"
   ]
  },
  {
   "cell_type": "code",
   "execution_count": 11,
   "metadata": {},
   "outputs": [
    {
     "name": "stdout",
     "output_type": "stream",
     "text": [
      "199 72 2449\n"
     ]
    }
   ],
   "source": [
    "max_value = max(ls_number)\n",
    "min_value = min(ls_number)\n",
    "total = sum(ls_number)\n",
    "print(max_value, min_value, total)"
   ]
  },
  {
   "cell_type": "code",
   "execution_count": 12,
   "metadata": {},
   "outputs": [
    {
     "name": "stdout",
     "output_type": "stream",
     "text": [
      "\n",
      "1 \n",
      "1 2 \n",
      "1 2 3 \n",
      "1 2 3 4 \n"
     ]
    }
   ],
   "source": [
    "n = 6\n",
    "for i in range(1, n):\n",
    "    my_str = \"\"\n",
    "    for j in range(1, i):\n",
    "        my_str += str(j) + \" \"\n",
    "    print(my_str)"
   ]
  },
  {
   "cell_type": "code",
   "execution_count": 13,
   "metadata": {},
   "outputs": [
    {
     "name": "stdout",
     "output_type": "stream",
     "text": [
      "1 0: 1 \n",
      "2 1: 0 1 \n",
      "3 2: 0 1 1 \n",
      "4 3: 0 1 2 1 \n",
      "5 4: 0 1 3 3 1 \n",
      "6 5: 0 1 4 6 4 1 \n"
     ]
    }
   ],
   "source": [
    "n = 4\n",
    "n = 6\n",
    "i, j = 0, 0\n",
    "for i in range(1, n+1):\n",
    "    print(i, j, end=\": \")\n",
    "    for j in range(1, i+1):\n",
    "        c_j_i = 1 #i!/j!(i-j)!\n",
    "        for k in range(1, i-j+1):\n",
    "            c_j_i *= (k + j - 2)/k\n",
    "        print(int(c_j_i), end = \" \")\n",
    "    print()"
   ]
  },
  {
   "cell_type": "code",
   "execution_count": 14,
   "metadata": {},
   "outputs": [
    {
     "name": "stdout",
     "output_type": "stream",
     "text": [
      "[1, 1]\n",
      "[1, 2, 1]\n",
      "[1, 3, 3, 1]\n",
      "[1, 4, 6, 4, 1]\n",
      "[1, 5, 10, 10, 5, 1]\n",
      "[1, 6, 15, 20, 15, 6, 1]\n",
      "[1, 7, 21, 35, 35, 21, 7, 1]\n"
     ]
    }
   ],
   "source": [
    "ls_prev = [0, 1, 1]\n",
    "n = 6\n",
    "pprint(ls_prev[1:])\n",
    "for _ in range(0, n):\n",
    "    ls_now = [0]\n",
    "    for i in range(1, len(ls_prev)):\n",
    "        ls_now.append(ls_prev[i] + ls_prev[i-1])\n",
    "    ls_now.append(1)\n",
    "    pprint(ls_now[1:])\n",
    "    ls_prev = ls_now\n"
   ]
  },
  {
   "cell_type": "markdown",
   "metadata": {},
   "source": [
    "# 2. Sorting <a id=\"sort\"/>"
   ]
  },
  {
   "cell_type": "markdown",
   "metadata": {},
   "source": [
    "## 2.1 Selection Sort "
   ]
  },
  {
   "cell_type": "code",
   "execution_count": 66,
   "metadata": {},
   "outputs": [
    {
     "data": {
      "text/plain": [
       "array([ 5,  1,  7, 11, 11,  4, 14,  2, 10, 16])"
      ]
     },
     "execution_count": 66,
     "metadata": {},
     "output_type": "execute_result"
    }
   ],
   "source": [
    "ls_number"
   ]
  },
  {
   "cell_type": "code",
   "execution_count": 67,
   "metadata": {},
   "outputs": [],
   "source": [
    "ls_tmp = ls_number.copy()"
   ]
  },
  {
   "cell_type": "code",
   "execution_count": 68,
   "metadata": {},
   "outputs": [
    {
     "name": "stdout",
     "output_type": "stream",
     "text": [
      "Before sorting\n",
      "array([ 5,  1,  7, 11, 11,  4, 14,  2, 10, 16])\n"
     ]
    }
   ],
   "source": [
    "print(\"Before sorting\")\n",
    "pprint(ls_tmp)"
   ]
  },
  {
   "cell_type": "code",
   "execution_count": 69,
   "metadata": {},
   "outputs": [
    {
     "name": "stdout",
     "output_type": "stream",
     "text": [
      "# 0\n",
      "# 1\n",
      "# 2\n",
      "# 3\n",
      "# 4\n",
      "# 5\n",
      "# 6\n",
      "# 7\n",
      "# 8\n",
      "[ 1  2  4  5  7 10 11 11 14 16]\n"
     ]
    }
   ],
   "source": [
    "n = len(ls_tmp)\n",
    "for i in range(0, n-1):  # i: 0 -> n-2              [...] X\n",
    "    print(f\"# {i}\")\n",
    "    for j in range(n-1, i, -1): # j: n-1 -> i+1     i [... X]\n",
    "        if ls_tmp[j-1] > ls_tmp[j]:  \n",
    "            # i=0: Last iterate ls_tmp[1-1] vs. ls_tmp[1]\n",
    "            # print(f\"Swap {j-1} {j}\")\n",
    "            tmp = ls_tmp[j-1]\n",
    "            ls_tmp[j-1] = ls_tmp[j]\n",
    "            ls_tmp[j] = tmp\n",
    "print(ls_tmp)"
   ]
  },
  {
   "cell_type": "code",
   "execution_count": null,
   "metadata": {},
   "outputs": [],
   "source": [
    "O(n^2)\n",
    "O(n*logn)"
   ]
  },
  {
   "cell_type": "code",
   "execution_count": 39,
   "metadata": {},
   "outputs": [
    {
     "name": "stdout",
     "output_type": "stream",
     "text": [
      "[5 4 0 7 7]\n"
     ]
    }
   ],
   "source": [
    "print(ls_tmp)"
   ]
  },
  {
   "cell_type": "markdown",
   "metadata": {},
   "source": [
    "## 2.2 Insertion Sort"
   ]
  },
  {
   "cell_type": "code",
   "execution_count": null,
   "metadata": {},
   "outputs": [],
   "source": []
  },
  {
   "cell_type": "markdown",
   "metadata": {},
   "source": [
    "## 2.3 Bubble Sort"
   ]
  },
  {
   "cell_type": "code",
   "execution_count": null,
   "metadata": {},
   "outputs": [],
   "source": []
  },
  {
   "cell_type": "markdown",
   "metadata": {},
   "source": [
    "### --------"
   ]
  },
  {
   "cell_type": "markdown",
   "metadata": {},
   "source": [
    "# 3. Searching <a id=\"search\"/>"
   ]
  },
  {
   "cell_type": "code",
   "execution_count": 70,
   "metadata": {},
   "outputs": [
    {
     "data": {
      "text/plain": [
       "array([ 1,  2,  4,  5,  7, 10, 11, 11, 14, 16])"
      ]
     },
     "execution_count": 70,
     "metadata": {},
     "output_type": "execute_result"
    }
   ],
   "source": [
    "ls_tmp"
   ]
  },
  {
   "cell_type": "code",
   "execution_count": 58,
   "metadata": {},
   "outputs": [
    {
     "name": "stdout",
     "output_type": "stream",
     "text": [
      "Not found\n"
     ]
    }
   ],
   "source": [
    "# Linear Search\n",
    "a = 6\n",
    "found = False\n",
    "for i in range(0, n):\n",
    "    if ls_tmp[i] == a:\n",
    "        print(f\"Found at {i}\")\n",
    "        found = True\n",
    "if not found:\n",
    "    print(\"Not found\")\n",
    "    \n",
    "# O(n)"
   ]
  },
  {
   "cell_type": "code",
   "execution_count": 72,
   "metadata": {},
   "outputs": [
    {
     "data": {
      "text/plain": [
       "array([ 1,  2,  4,  5,  7, 10, 11, 11, 14, 16])"
      ]
     },
     "execution_count": 72,
     "metadata": {},
     "output_type": "execute_result"
    }
   ],
   "source": [
    "ls_tmp"
   ]
  },
  {
   "cell_type": "code",
   "execution_count": 76,
   "metadata": {},
   "outputs": [
    {
     "name": "stdout",
     "output_type": "stream",
     "text": [
      "# 0\n",
      "[10 11 11 14 16]\n",
      "# 1\n",
      "Found at 7\n"
     ]
    }
   ],
   "source": [
    "# O(logn) - Binary Search\n",
    "a = 11\n",
    "found = False\n",
    "b, e = 0, n-1  # Begin, end\n",
    "idx = 0\n",
    "while b <= e:\n",
    "    print(f\"# {idx}\")\n",
    "    i = (b + e)//2\n",
    "    if a == ls_tmp[i]:\n",
    "        found = True\n",
    "        print(f\"Found at {i}\")\n",
    "        break\n",
    "    elif a < ls_tmp[i]:\n",
    "        e = i - 1\n",
    "    elif a > ls_tmp[i]:\n",
    "        b = i + 1\n",
    "    print(ls_tmp[b:e+1])\n",
    "    idx += 1\n",
    "        \n",
    "if not found:\n",
    "    print(\"Not found\")"
   ]
  },
  {
   "cell_type": "code",
   "execution_count": 74,
   "metadata": {},
   "outputs": [
    {
     "data": {
      "text/plain": [
       "1"
      ]
     },
     "execution_count": 74,
     "metadata": {},
     "output_type": "execute_result"
    }
   ],
   "source": [
    "(0+3)//2"
   ]
  },
  {
   "cell_type": "code",
   "execution_count": 75,
   "metadata": {},
   "outputs": [
    {
     "data": {
      "text/plain": [
       "1"
      ]
     },
     "execution_count": 75,
     "metadata": {},
     "output_type": "execute_result"
    }
   ],
   "source": [
    "5//3"
   ]
  },
  {
   "cell_type": "markdown",
   "metadata": {},
   "source": [
    "# 4. Regular Expression <a id=\"regex\"/>"
   ]
  },
  {
   "cell_type": "code",
   "execution_count": 77,
   "metadata": {},
   "outputs": [
    {
     "data": {
      "text/plain": [
       "'/Users/newuser/Work/MyGithub/TestGit/Python'"
      ]
     },
     "execution_count": 77,
     "metadata": {},
     "output_type": "execute_result"
    }
   ],
   "source": [
    "os.getcwd()"
   ]
  },
  {
   "cell_type": "code",
   "execution_count": 79,
   "metadata": {},
   "outputs": [
    {
     "data": {
      "text/plain": [
       "'a/b'"
      ]
     },
     "execution_count": 79,
     "metadata": {},
     "output_type": "execute_result"
    }
   ],
   "source": [
    "os.path.join(\"a\", \"b\")"
   ]
  },
  {
   "cell_type": "code",
   "execution_count": 80,
   "metadata": {},
   "outputs": [
    {
     "data": {
      "text/plain": [
       "'a/b'"
      ]
     },
     "execution_count": 80,
     "metadata": {},
     "output_type": "execute_result"
    }
   ],
   "source": [
    "'a' + '/' + 'b'"
   ]
  },
  {
   "cell_type": "code",
   "execution_count": null,
   "metadata": {},
   "outputs": [],
   "source": [
    "/data # /resource -> .csv .pickle \n",
    "DEFAULT_PATH "
   ]
  },
  {
   "cell_type": "markdown",
   "metadata": {},
   "source": [
    "# 5. Recursive"
   ]
  },
  {
   "cell_type": "code",
   "execution_count": 81,
   "metadata": {},
   "outputs": [
    {
     "name": "stdout",
     "output_type": "stream",
     "text": [
      "5\n"
     ]
    }
   ],
   "source": [
    "# Fibonacci\n",
    "def fibonacci(n):\n",
    "    if n <= 1:\n",
    "        return n\n",
    "    else:\n",
    "        return fibonacci(n-1) + fibonacci(n-2)\n",
    "    \n",
    "print(fibonacci(5))"
   ]
  },
  {
   "cell_type": "code",
   "execution_count": null,
   "metadata": {},
   "outputs": [],
   "source": [
    "0 1 1 2 3 5 8 13 ...\n"
   ]
  },
  {
   "cell_type": "code",
   "execution_count": 82,
   "metadata": {},
   "outputs": [
    {
     "data": {
      "text/plain": [
       "60000"
      ]
     },
     "execution_count": 82,
     "metadata": {},
     "output_type": "execute_result"
    }
   ],
   "source": [
    "2000 * 30"
   ]
  },
  {
   "cell_type": "markdown",
   "metadata": {},
   "source": [
    "# 6. Challenge Magic Square"
   ]
  },
  {
   "cell_type": "code",
   "execution_count": 84,
   "metadata": {},
   "outputs": [
    {
     "name": "stdout",
     "output_type": "stream",
     "text": [
      "2021-06-24 16:16:15\n",
      "-------------------\n"
     ]
    }
   ],
   "source": [
    "#\n",
    "# Complete the 'formingMagicSquare' function below.\n",
    "#\n",
    "# The function is expected to return an INTEGER.\n",
    "# The function accepts 2D_INTEGER_ARRAY s as parameter.\n",
    "#\n",
    "\n",
    "def formingMagicSquare(s):\n",
    "    # Write your code here\n",
    "    # 4 magic squares rotated\n",
    "    ls_magic_sq = [\n",
    "        [[8, 3, 4], \n",
    "         [1, 5, 9], \n",
    "         [6, 7, 2]],\n",
    "        [[6, 1, 8], \n",
    "         [7, 5, 3], \n",
    "         [2, 9, 4]],\n",
    "        [[2, 7, 6], \n",
    "         [9, 5, 1], \n",
    "         [4, 3, 8]],\n",
    "        [[4, 9, 2], \n",
    "         [3, 5, 7], \n",
    "         [8, 1, 6]],\n",
    "        [[4, 3, 8], \n",
    "         [9, 5, 1], \n",
    "         [2, 7, 6]],\n",
    "        [[8, 1, 6], \n",
    "         [3, 5, 7], \n",
    "         [4, 9, 2]],\n",
    "        [[6, 7, 2], \n",
    "         [1, 5, 9], \n",
    "         [8, 3, 4]],\n",
    "        [[2, 9, 4], \n",
    "         [7, 5, 3], \n",
    "         [6, 1, 8]],\n",
    "    ]\n",
    "    min_cost = 45\n",
    "    \n",
    "    for sq in ls_magic_sq:\n",
    "        print(sq)\n",
    "        cost = 0\n",
    "        for i, row in enumerate(sq):\n",
    "            for j, col in enumerate(row):\n",
    "                cost += abs(col - s[i][j])\n",
    "        if min_cost > cost:\n",
    "            min_cost = cost\n",
    "        print(cost, min_cost)\n",
    "        \n",
    "    return min_cost\n",
    "\n",
    "print_runtime()"
   ]
  },
  {
   "cell_type": "markdown",
   "metadata": {},
   "source": [
    "# 7. GearVN Data"
   ]
  },
  {
   "cell_type": "code",
   "execution_count": 85,
   "metadata": {},
   "outputs": [
    {
     "name": "stdout",
     "output_type": "stream",
     "text": [
      "(1505, 28)\n"
     ]
    },
    {
     "data": {
      "text/html": [
       "<div>\n",
       "<style scoped>\n",
       "    .dataframe tbody tr th:only-of-type {\n",
       "        vertical-align: middle;\n",
       "    }\n",
       "\n",
       "    .dataframe tbody tr th {\n",
       "        vertical-align: top;\n",
       "    }\n",
       "\n",
       "    .dataframe thead th {\n",
       "        text-align: right;\n",
       "    }\n",
       "</style>\n",
       "<table border=\"1\" class=\"dataframe\">\n",
       "  <thead>\n",
       "    <tr style=\"text-align: right;\">\n",
       "      <th></th>\n",
       "      <th>ID tích hợp</th>\n",
       "      <th>Thời gian</th>\n",
       "      <th>Tháng</th>\n",
       "      <th>Kho lấy hàng</th>\n",
       "      <th>Thành phố</th>\n",
       "      <th>Quận huyện</th>\n",
       "      <th>Mã sản phẩm</th>\n",
       "      <th>Ngành</th>\n",
       "      <th>Hãng</th>\n",
       "      <th>Mã chung</th>\n",
       "      <th>...</th>\n",
       "      <th>Tổng thu</th>\n",
       "      <th>Ghi chú của CSKH</th>\n",
       "      <th>Trạng thái</th>\n",
       "      <th>Chăm sóc KH</th>\n",
       "      <th>Thiếu</th>\n",
       "      <th>Thieu</th>\n",
       "      <th>DH thiếu</th>\n",
       "      <th>Ngày xác nhận</th>\n",
       "      <th>Thời gian xác nhận</th>\n",
       "      <th>Nguồn đơn hàng</th>\n",
       "    </tr>\n",
       "  </thead>\n",
       "  <tbody>\n",
       "    <tr>\n",
       "      <th>0</th>\n",
       "      <td>hd226477</td>\n",
       "      <td>2021-03-05 21:57:14</td>\n",
       "      <td>3</td>\n",
       "      <td>2 HCM-HHT-KD-V.2</td>\n",
       "      <td>Bình Dương</td>\n",
       "      <td>Thành phố Thủ Dầu Một</td>\n",
       "      <td>MAN-HKC-NB27C2-GAME</td>\n",
       "      <td>MAN</td>\n",
       "      <td>HKC</td>\n",
       "      <td>NaN</td>\n",
       "      <td>...</td>\n",
       "      <td>4790000</td>\n",
       "      <td>NaN</td>\n",
       "      <td>Hệ thống hủy</td>\n",
       "      <td>Nguyễn Cao Thắng</td>\n",
       "      <td>0</td>\n",
       "      <td>0</td>\n",
       "      <td>0</td>\n",
       "      <td>2021-03-05 21:59:18</td>\n",
       "      <td>0.001435</td>\n",
       "      <td>OTHER</td>\n",
       "    </tr>\n",
       "    <tr>\n",
       "      <th>1</th>\n",
       "      <td>hd226472</td>\n",
       "      <td>2021-03-05 21:54:51</td>\n",
       "      <td>3</td>\n",
       "      <td>8 HCM-CQ-KD</td>\n",
       "      <td>NaN</td>\n",
       "      <td>NaN</td>\n",
       "      <td>LAP-MSI-GF63-9SCSR-829VN</td>\n",
       "      <td>LAP</td>\n",
       "      <td>MSI</td>\n",
       "      <td>NaN</td>\n",
       "      <td>...</td>\n",
       "      <td>19940000</td>\n",
       "      <td>19940000</td>\n",
       "      <td>Hệ thống hủy</td>\n",
       "      <td>NaN</td>\n",
       "      <td>0</td>\n",
       "      <td>0</td>\n",
       "      <td>0</td>\n",
       "      <td>NaN</td>\n",
       "      <td>0.000000</td>\n",
       "      <td>OTHER</td>\n",
       "    </tr>\n",
       "    <tr>\n",
       "      <th>2</th>\n",
       "      <td>hd226472</td>\n",
       "      <td>2021-03-05 21:54:51</td>\n",
       "      <td>3</td>\n",
       "      <td>8 HCM-CQ-KD</td>\n",
       "      <td>NaN</td>\n",
       "      <td>NaN</td>\n",
       "      <td>CHU-DAR-LM115G-BK</td>\n",
       "      <td>CHU</td>\n",
       "      <td>DAREU</td>\n",
       "      <td>NaN</td>\n",
       "      <td>...</td>\n",
       "      <td>19940000</td>\n",
       "      <td>NaN</td>\n",
       "      <td>Hệ thống hủy</td>\n",
       "      <td>NaN</td>\n",
       "      <td>0</td>\n",
       "      <td>0</td>\n",
       "      <td>0</td>\n",
       "      <td>NaN</td>\n",
       "      <td>0.000000</td>\n",
       "      <td>OTHER</td>\n",
       "    </tr>\n",
       "    <tr>\n",
       "      <th>3</th>\n",
       "      <td>hd226472</td>\n",
       "      <td>2021-03-05 21:54:51</td>\n",
       "      <td>3</td>\n",
       "      <td>8 HCM-CQ-KD</td>\n",
       "      <td>NaN</td>\n",
       "      <td>NaN</td>\n",
       "      <td>TUI-GEARVN-SHOCK-15</td>\n",
       "      <td>TUI</td>\n",
       "      <td>GEARVN</td>\n",
       "      <td>NaN</td>\n",
       "      <td>...</td>\n",
       "      <td>19940000</td>\n",
       "      <td>NaN</td>\n",
       "      <td>Hệ thống hủy</td>\n",
       "      <td>NaN</td>\n",
       "      <td>0</td>\n",
       "      <td>0</td>\n",
       "      <td>0</td>\n",
       "      <td>NaN</td>\n",
       "      <td>0.000000</td>\n",
       "      <td>OTHER</td>\n",
       "    </tr>\n",
       "    <tr>\n",
       "      <th>4</th>\n",
       "      <td>hd226472</td>\n",
       "      <td>2021-03-05 21:54:51</td>\n",
       "      <td>3</td>\n",
       "      <td>8 HCM-CQ-KD</td>\n",
       "      <td>NaN</td>\n",
       "      <td>NaN</td>\n",
       "      <td>RAM-LEX-CL22-8G-2666-SODIMM</td>\n",
       "      <td>RAM</td>\n",
       "      <td>LEXAR</td>\n",
       "      <td>NaN</td>\n",
       "      <td>...</td>\n",
       "      <td>19940000</td>\n",
       "      <td>NaN</td>\n",
       "      <td>Hệ thống hủy</td>\n",
       "      <td>NaN</td>\n",
       "      <td>0</td>\n",
       "      <td>0</td>\n",
       "      <td>0</td>\n",
       "      <td>NaN</td>\n",
       "      <td>0.000000</td>\n",
       "      <td>OTHER</td>\n",
       "    </tr>\n",
       "    <tr>\n",
       "      <th>5</th>\n",
       "      <td>hd226472</td>\n",
       "      <td>2021-03-05 21:54:51</td>\n",
       "      <td>3</td>\n",
       "      <td>8 HCM-CQ-KD</td>\n",
       "      <td>NaN</td>\n",
       "      <td>NaN</td>\n",
       "      <td>TAI-MSI-H991</td>\n",
       "      <td>TAI</td>\n",
       "      <td>MSI</td>\n",
       "      <td>NaN</td>\n",
       "      <td>...</td>\n",
       "      <td>19940000</td>\n",
       "      <td>NaN</td>\n",
       "      <td>Hệ thống hủy</td>\n",
       "      <td>NaN</td>\n",
       "      <td>0</td>\n",
       "      <td>0</td>\n",
       "      <td>0</td>\n",
       "      <td>NaN</td>\n",
       "      <td>0.000000</td>\n",
       "      <td>OTHER</td>\n",
       "    </tr>\n",
       "    <tr>\n",
       "      <th>6</th>\n",
       "      <td>hd226475</td>\n",
       "      <td>2021-03-05 21:54:47</td>\n",
       "      <td>3</td>\n",
       "      <td>2 HCM-HHT-KD-V.2</td>\n",
       "      <td>Long An</td>\n",
       "      <td>Huyện Đức Hòa</td>\n",
       "      <td>RAM-GSK-TRIDENTZ-1X8G-RGB3000</td>\n",
       "      <td>RAM</td>\n",
       "      <td>G.SKILL</td>\n",
       "      <td>NaN</td>\n",
       "      <td>...</td>\n",
       "      <td>34330000</td>\n",
       "      <td>34330000</td>\n",
       "      <td>Hệ thống hủy</td>\n",
       "      <td>Nguyễn Cao Thắng</td>\n",
       "      <td>0</td>\n",
       "      <td>0</td>\n",
       "      <td>0</td>\n",
       "      <td>2021-03-06 08:15:30</td>\n",
       "      <td>0.431053</td>\n",
       "      <td>OTHER</td>\n",
       "    </tr>\n",
       "    <tr>\n",
       "      <th>7</th>\n",
       "      <td>hd226475</td>\n",
       "      <td>2021-03-05 21:54:47</td>\n",
       "      <td>3</td>\n",
       "      <td>2 HCM-HHT-KD-V.2</td>\n",
       "      <td>Long An</td>\n",
       "      <td>Huyện Đức Hòa</td>\n",
       "      <td>RAM-GSK-TRIDENTZ-1X8G-RGB3000</td>\n",
       "      <td>RAM</td>\n",
       "      <td>G.SKILL</td>\n",
       "      <td>NaN</td>\n",
       "      <td>...</td>\n",
       "      <td>34330000</td>\n",
       "      <td>NaN</td>\n",
       "      <td>Hệ thống hủy</td>\n",
       "      <td>Nguyễn Cao Thắng</td>\n",
       "      <td>0</td>\n",
       "      <td>0</td>\n",
       "      <td>0</td>\n",
       "      <td>2021-03-06 08:15:30</td>\n",
       "      <td>0.431053</td>\n",
       "      <td>OTHER</td>\n",
       "    </tr>\n",
       "    <tr>\n",
       "      <th>8</th>\n",
       "      <td>hd226475</td>\n",
       "      <td>2021-03-05 21:54:47</td>\n",
       "      <td>3</td>\n",
       "      <td>2 HCM-HHT-KD-V.2</td>\n",
       "      <td>Long An</td>\n",
       "      <td>Huyện Đức Hòa</td>\n",
       "      <td>CPU-INT-i7-10700</td>\n",
       "      <td>CPU</td>\n",
       "      <td>INTEL</td>\n",
       "      <td>i7</td>\n",
       "      <td>...</td>\n",
       "      <td>34330000</td>\n",
       "      <td>NaN</td>\n",
       "      <td>Hệ thống hủy</td>\n",
       "      <td>Nguyễn Cao Thắng</td>\n",
       "      <td>0</td>\n",
       "      <td>0</td>\n",
       "      <td>0</td>\n",
       "      <td>2021-03-06 08:15:30</td>\n",
       "      <td>0.431053</td>\n",
       "      <td>OTHER</td>\n",
       "    </tr>\n",
       "    <tr>\n",
       "      <th>9</th>\n",
       "      <td>hd226475</td>\n",
       "      <td>2021-03-05 21:54:47</td>\n",
       "      <td>3</td>\n",
       "      <td>2 HCM-HHT-KD-V.2</td>\n",
       "      <td>Long An</td>\n",
       "      <td>Huyện Đức Hòa</td>\n",
       "      <td>SSD-GIGA-240G</td>\n",
       "      <td>SSD</td>\n",
       "      <td>GIGABYTE</td>\n",
       "      <td>NaN</td>\n",
       "      <td>...</td>\n",
       "      <td>34330000</td>\n",
       "      <td>NaN</td>\n",
       "      <td>Hệ thống hủy</td>\n",
       "      <td>Nguyễn Cao Thắng</td>\n",
       "      <td>0</td>\n",
       "      <td>0</td>\n",
       "      <td>0</td>\n",
       "      <td>2021-03-06 08:15:30</td>\n",
       "      <td>0.431053</td>\n",
       "      <td>OTHER</td>\n",
       "    </tr>\n",
       "  </tbody>\n",
       "</table>\n",
       "<p>10 rows × 28 columns</p>\n",
       "</div>"
      ],
      "text/plain": [
       "  ID tích hợp            Thời gian  Tháng      Kho lấy hàng   Thành phố  \\\n",
       "0    hd226477  2021-03-05 21:57:14      3  2 HCM-HHT-KD-V.2  Bình Dương   \n",
       "1    hd226472  2021-03-05 21:54:51      3       8 HCM-CQ-KD         NaN   \n",
       "2    hd226472  2021-03-05 21:54:51      3       8 HCM-CQ-KD         NaN   \n",
       "3    hd226472  2021-03-05 21:54:51      3       8 HCM-CQ-KD         NaN   \n",
       "4    hd226472  2021-03-05 21:54:51      3       8 HCM-CQ-KD         NaN   \n",
       "5    hd226472  2021-03-05 21:54:51      3       8 HCM-CQ-KD         NaN   \n",
       "6    hd226475  2021-03-05 21:54:47      3  2 HCM-HHT-KD-V.2     Long An   \n",
       "7    hd226475  2021-03-05 21:54:47      3  2 HCM-HHT-KD-V.2     Long An   \n",
       "8    hd226475  2021-03-05 21:54:47      3  2 HCM-HHT-KD-V.2     Long An   \n",
       "9    hd226475  2021-03-05 21:54:47      3  2 HCM-HHT-KD-V.2     Long An   \n",
       "\n",
       "              Quận huyện                    Mã sản phẩm Ngành      Hãng  \\\n",
       "0  Thành phố Thủ Dầu Một            MAN-HKC-NB27C2-GAME   MAN       HKC   \n",
       "1                    NaN       LAP-MSI-GF63-9SCSR-829VN   LAP       MSI   \n",
       "2                    NaN              CHU-DAR-LM115G-BK   CHU     DAREU   \n",
       "3                    NaN            TUI-GEARVN-SHOCK-15   TUI    GEARVN   \n",
       "4                    NaN    RAM-LEX-CL22-8G-2666-SODIMM   RAM     LEXAR   \n",
       "5                    NaN                   TAI-MSI-H991   TAI       MSI   \n",
       "6          Huyện Đức Hòa  RAM-GSK-TRIDENTZ-1X8G-RGB3000   RAM   G.SKILL   \n",
       "7          Huyện Đức Hòa  RAM-GSK-TRIDENTZ-1X8G-RGB3000   RAM   G.SKILL   \n",
       "8          Huyện Đức Hòa               CPU-INT-i7-10700   CPU     INTEL   \n",
       "9          Huyện Đức Hòa                  SSD-GIGA-240G   SSD  GIGABYTE   \n",
       "\n",
       "  Mã chung      ...        Tổng thu  Ghi chú của CSKH    Trạng thái  \\\n",
       "0      NaN      ...         4790000               NaN  Hệ thống hủy   \n",
       "1      NaN      ...        19940000          19940000  Hệ thống hủy   \n",
       "2      NaN      ...        19940000               NaN  Hệ thống hủy   \n",
       "3      NaN      ...        19940000               NaN  Hệ thống hủy   \n",
       "4      NaN      ...        19940000               NaN  Hệ thống hủy   \n",
       "5      NaN      ...        19940000               NaN  Hệ thống hủy   \n",
       "6      NaN      ...        34330000          34330000  Hệ thống hủy   \n",
       "7      NaN      ...        34330000               NaN  Hệ thống hủy   \n",
       "8       i7      ...        34330000               NaN  Hệ thống hủy   \n",
       "9      NaN      ...        34330000               NaN  Hệ thống hủy   \n",
       "\n",
       "        Chăm sóc KH  Thiếu  Thieu  DH thiếu        Ngày xác nhận  \\\n",
       "0  Nguyễn Cao Thắng      0      0         0  2021-03-05 21:59:18   \n",
       "1               NaN      0      0         0                  NaN   \n",
       "2               NaN      0      0         0                  NaN   \n",
       "3               NaN      0      0         0                  NaN   \n",
       "4               NaN      0      0         0                  NaN   \n",
       "5               NaN      0      0         0                  NaN   \n",
       "6  Nguyễn Cao Thắng      0      0         0  2021-03-06 08:15:30   \n",
       "7  Nguyễn Cao Thắng      0      0         0  2021-03-06 08:15:30   \n",
       "8  Nguyễn Cao Thắng      0      0         0  2021-03-06 08:15:30   \n",
       "9  Nguyễn Cao Thắng      0      0         0  2021-03-06 08:15:30   \n",
       "\n",
       "   Thời gian xác nhận Nguồn đơn hàng  \n",
       "0            0.001435          OTHER  \n",
       "1            0.000000          OTHER  \n",
       "2            0.000000          OTHER  \n",
       "3            0.000000          OTHER  \n",
       "4            0.000000          OTHER  \n",
       "5            0.000000          OTHER  \n",
       "6            0.431053          OTHER  \n",
       "7            0.431053          OTHER  \n",
       "8            0.431053          OTHER  \n",
       "9            0.431053          OTHER  \n",
       "\n",
       "[10 rows x 28 columns]"
      ]
     },
     "metadata": {},
     "output_type": "display_data"
    },
    {
     "name": "stdout",
     "output_type": "stream",
     "text": [
      "2021-06-25 16:08:48\n",
      "-------------------\n"
     ]
    }
   ],
   "source": [
    "source_path = \"./data/gearvn_1day.csv\"\n",
    "pdf_gearvn = pd.read_csv(source_path)\n",
    "print(pdf_gearvn.shape)\n",
    "display(pdf_gearvn.head(10))\n",
    "print_runtime()"
   ]
  },
  {
   "cell_type": "code",
   "execution_count": 88,
   "metadata": {},
   "outputs": [
    {
     "name": "stdout",
     "output_type": "stream",
     "text": [
      "Number of agents: 19\n"
     ]
    },
    {
     "data": {
      "text/html": [
       "<div>\n",
       "<style scoped>\n",
       "    .dataframe tbody tr th:only-of-type {\n",
       "        vertical-align: middle;\n",
       "    }\n",
       "\n",
       "    .dataframe tbody tr th {\n",
       "        vertical-align: top;\n",
       "    }\n",
       "\n",
       "    .dataframe thead th {\n",
       "        text-align: right;\n",
       "    }\n",
       "</style>\n",
       "<table border=\"1\" class=\"dataframe\">\n",
       "  <thead>\n",
       "    <tr style=\"text-align: right;\">\n",
       "      <th></th>\n",
       "      <th>Chăm sóc KH</th>\n",
       "    </tr>\n",
       "  </thead>\n",
       "  <tbody>\n",
       "    <tr>\n",
       "      <th>0</th>\n",
       "      <td>Nguyễn Cao Thắng</td>\n",
       "    </tr>\n",
       "    <tr>\n",
       "      <th>1</th>\n",
       "      <td>NaN</td>\n",
       "    </tr>\n",
       "    <tr>\n",
       "      <th>20</th>\n",
       "      <td>Võ Ngọc Hải</td>\n",
       "    </tr>\n",
       "    <tr>\n",
       "      <th>21</th>\n",
       "      <td>Võ Quốc Khánh</td>\n",
       "    </tr>\n",
       "    <tr>\n",
       "      <th>22</th>\n",
       "      <td>Nguyễn Minh Hiếu</td>\n",
       "    </tr>\n",
       "  </tbody>\n",
       "</table>\n",
       "</div>"
      ],
      "text/plain": [
       "         Chăm sóc KH\n",
       "0   Nguyễn Cao Thắng\n",
       "1                NaN\n",
       "20       Võ Ngọc Hải\n",
       "21     Võ Quốc Khánh\n",
       "22  Nguyễn Minh Hiếu"
      ]
     },
     "metadata": {},
     "output_type": "display_data"
    },
    {
     "name": "stdout",
     "output_type": "stream",
     "text": [
      "2021-06-25 16:10:38\n",
      "-------------------\n"
     ]
    }
   ],
   "source": [
    "pdf_agent = pdf_gearvn[[\"Chăm sóc KH\"]].drop_duplicates()\n",
    "print(f\"Number of agents: {pdf_agent.shape[0]}\")\n",
    "display(pdf_agent.head())\n",
    "\n",
    "print_runtime()"
   ]
  },
  {
   "cell_type": "code",
   "execution_count": 89,
   "metadata": {},
   "outputs": [
    {
     "name": "stdout",
     "output_type": "stream",
     "text": [
      "Number of products: 714\n"
     ]
    },
    {
     "data": {
      "text/html": [
       "<div>\n",
       "<style scoped>\n",
       "    .dataframe tbody tr th:only-of-type {\n",
       "        vertical-align: middle;\n",
       "    }\n",
       "\n",
       "    .dataframe tbody tr th {\n",
       "        vertical-align: top;\n",
       "    }\n",
       "\n",
       "    .dataframe thead th {\n",
       "        text-align: right;\n",
       "    }\n",
       "</style>\n",
       "<table border=\"1\" class=\"dataframe\">\n",
       "  <thead>\n",
       "    <tr style=\"text-align: right;\">\n",
       "      <th></th>\n",
       "      <th>Ngành</th>\n",
       "      <th>Hãng</th>\n",
       "      <th>Mã sản phẩm</th>\n",
       "      <th>Kho lấy hàng</th>\n",
       "      <th>Giá</th>\n",
       "    </tr>\n",
       "  </thead>\n",
       "  <tbody>\n",
       "    <tr>\n",
       "      <th>0</th>\n",
       "      <td>MAN</td>\n",
       "      <td>HKC</td>\n",
       "      <td>MAN-HKC-NB27C2-GAME</td>\n",
       "      <td>2 HCM-HHT-KD-V.2</td>\n",
       "      <td>5090000</td>\n",
       "    </tr>\n",
       "    <tr>\n",
       "      <th>1</th>\n",
       "      <td>LAP</td>\n",
       "      <td>MSI</td>\n",
       "      <td>LAP-MSI-GF63-9SCSR-829VN</td>\n",
       "      <td>8 HCM-CQ-KD</td>\n",
       "      <td>22990000</td>\n",
       "    </tr>\n",
       "    <tr>\n",
       "      <th>2</th>\n",
       "      <td>CHU</td>\n",
       "      <td>DAREU</td>\n",
       "      <td>CHU-DAR-LM115G-BK</td>\n",
       "      <td>8 HCM-CQ-KD</td>\n",
       "      <td>150000</td>\n",
       "    </tr>\n",
       "    <tr>\n",
       "      <th>3</th>\n",
       "      <td>TUI</td>\n",
       "      <td>GEARVN</td>\n",
       "      <td>TUI-GEARVN-SHOCK-15</td>\n",
       "      <td>8 HCM-CQ-KD</td>\n",
       "      <td>0</td>\n",
       "    </tr>\n",
       "    <tr>\n",
       "      <th>4</th>\n",
       "      <td>RAM</td>\n",
       "      <td>LEXAR</td>\n",
       "      <td>RAM-LEX-CL22-8G-2666-SODIMM</td>\n",
       "      <td>8 HCM-CQ-KD</td>\n",
       "      <td>0</td>\n",
       "    </tr>\n",
       "  </tbody>\n",
       "</table>\n",
       "</div>"
      ],
      "text/plain": [
       "  Ngành    Hãng                  Mã sản phẩm      Kho lấy hàng       Giá\n",
       "0   MAN     HKC          MAN-HKC-NB27C2-GAME  2 HCM-HHT-KD-V.2   5090000\n",
       "1   LAP     MSI     LAP-MSI-GF63-9SCSR-829VN       8 HCM-CQ-KD  22990000\n",
       "2   CHU   DAREU            CHU-DAR-LM115G-BK       8 HCM-CQ-KD    150000\n",
       "3   TUI  GEARVN          TUI-GEARVN-SHOCK-15       8 HCM-CQ-KD         0\n",
       "4   RAM   LEXAR  RAM-LEX-CL22-8G-2666-SODIMM       8 HCM-CQ-KD         0"
      ]
     },
     "metadata": {},
     "output_type": "display_data"
    },
    {
     "name": "stdout",
     "output_type": "stream",
     "text": [
      "2021-06-25 16:13:19\n",
      "-------------------\n"
     ]
    }
   ],
   "source": [
    "pdf_prod = pdf_gearvn[[\"Ngành\", \"Hãng\", \"Mã sản phẩm\", \"Kho lấy hàng\", \"Giá\"]].drop_duplicates()\n",
    "print(f\"Number of products: {pdf_prod.shape[0]}\")\n",
    "display(pdf_prod.head())\n",
    "\n",
    "print_runtime()"
   ]
  },
  {
   "cell_type": "code",
   "execution_count": 95,
   "metadata": {},
   "outputs": [
    {
     "data": {
      "text/plain": [
       "array(['MAN', 'LAP', 'CHU', 'TUI', 'RAM', 'TAI', 'CPU', 'SSD', 'PW', 'VO',\n",
       "       'TN', 'VGA', 'FAN', 'MB', 'KB', 'LC', 'TBM', 'BALO', 'LOA', 'GHE',\n",
       "       'HDD', 'PK', 'TCG', 'PM', 'tai', 'CAM'], dtype=object)"
      ]
     },
     "execution_count": 95,
     "metadata": {},
     "output_type": "execute_result"
    }
   ],
   "source": [
    "# Product Code:\n",
    "pdf_prod[\"Ngành\"].unique()"
   ]
  },
  {
   "cell_type": "code",
   "execution_count": null,
   "metadata": {},
   "outputs": [],
   "source": [
    "0 vs. \"0\""
   ]
  },
  {
   "cell_type": "code",
   "execution_count": 92,
   "metadata": {},
   "outputs": [
    {
     "name": "stdout",
     "output_type": "stream",
     "text": [
      "Number of order: 556\n"
     ]
    },
    {
     "data": {
      "text/html": [
       "<div>\n",
       "<style scoped>\n",
       "    .dataframe tbody tr th:only-of-type {\n",
       "        vertical-align: middle;\n",
       "    }\n",
       "\n",
       "    .dataframe tbody tr th {\n",
       "        vertical-align: top;\n",
       "    }\n",
       "\n",
       "    .dataframe thead th {\n",
       "        text-align: right;\n",
       "    }\n",
       "</style>\n",
       "<table border=\"1\" class=\"dataframe\">\n",
       "  <thead>\n",
       "    <tr style=\"text-align: right;\">\n",
       "      <th></th>\n",
       "      <th>ID tích hợp</th>\n",
       "      <th>Thời gian</th>\n",
       "      <th>Giá trị đơn hàng</th>\n",
       "      <th>Tiền chiết khấu</th>\n",
       "      <th>Tiền đặt cọc</th>\n",
       "      <th>Tổng thu</th>\n",
       "      <th>Ghi chú của CSKH</th>\n",
       "      <th>Trạng thái</th>\n",
       "      <th>Chăm sóc KH</th>\n",
       "      <th>Thiếu</th>\n",
       "      <th>Thieu</th>\n",
       "      <th>DH thiếu</th>\n",
       "      <th>Ngày xác nhận</th>\n",
       "      <th>Nguồn đơn hàng</th>\n",
       "    </tr>\n",
       "  </thead>\n",
       "  <tbody>\n",
       "    <tr>\n",
       "      <th>0</th>\n",
       "      <td>hd222111</td>\n",
       "      <td>2021-03-05 10:22:28</td>\n",
       "      <td>16720000</td>\n",
       "      <td>520000</td>\n",
       "      <td>0</td>\n",
       "      <td>16720000</td>\n",
       "      <td>0</td>\n",
       "      <td>Hệ thống hủy</td>\n",
       "      <td>Nguyễn Thế Vinh</td>\n",
       "      <td>0</td>\n",
       "      <td>0</td>\n",
       "      <td>0</td>\n",
       "      <td>0</td>\n",
       "      <td>0</td>\n",
       "    </tr>\n",
       "    <tr>\n",
       "      <th>1</th>\n",
       "      <td>hd223723-1</td>\n",
       "      <td>2021-03-05 14:11:09</td>\n",
       "      <td>23770000</td>\n",
       "      <td>1.13e+06</td>\n",
       "      <td>0</td>\n",
       "      <td>23770000</td>\n",
       "      <td>0</td>\n",
       "      <td>Hệ thống hủy</td>\n",
       "      <td>Trần Anh Vũ</td>\n",
       "      <td>0</td>\n",
       "      <td>0</td>\n",
       "      <td>0</td>\n",
       "      <td>2021-03-05 14:15:47</td>\n",
       "      <td>OTHER</td>\n",
       "    </tr>\n",
       "    <tr>\n",
       "      <th>2</th>\n",
       "      <td>hd223723-2</td>\n",
       "      <td>2021-03-05 15:28:33</td>\n",
       "      <td>23720000</td>\n",
       "      <td>1.08e+06</td>\n",
       "      <td>0</td>\n",
       "      <td>23720000</td>\n",
       "      <td>0</td>\n",
       "      <td>Đã xác nhận</td>\n",
       "      <td>Nguyễn Hoàn Thiện</td>\n",
       "      <td>0</td>\n",
       "      <td>0</td>\n",
       "      <td>0</td>\n",
       "      <td>2021-03-05 15:30:09</td>\n",
       "      <td>OTHER</td>\n",
       "    </tr>\n",
       "    <tr>\n",
       "      <th>3</th>\n",
       "      <td>hd223891</td>\n",
       "      <td>2021-03-05 15:03:45</td>\n",
       "      <td>23490000</td>\n",
       "      <td>5.5e+06</td>\n",
       "      <td>0</td>\n",
       "      <td>23490000</td>\n",
       "      <td>0</td>\n",
       "      <td>Thành công</td>\n",
       "      <td>Nguyễn Đinh Thuận</td>\n",
       "      <td>0</td>\n",
       "      <td>0</td>\n",
       "      <td>0</td>\n",
       "      <td>2021-03-06 07:58:59</td>\n",
       "      <td>OTHER</td>\n",
       "    </tr>\n",
       "    <tr>\n",
       "      <th>4</th>\n",
       "      <td>hd224709-1</td>\n",
       "      <td>2021-03-05 10:05:24</td>\n",
       "      <td>16560000</td>\n",
       "      <td>890000</td>\n",
       "      <td>0</td>\n",
       "      <td>16560000</td>\n",
       "      <td>thieu LOA</td>\n",
       "      <td>Hệ thống hủy</td>\n",
       "      <td>Nguyễn Minh Hiếu</td>\n",
       "      <td>0</td>\n",
       "      <td>1</td>\n",
       "      <td>1</td>\n",
       "      <td>2021-03-06 10:26:55</td>\n",
       "      <td>OTHER</td>\n",
       "    </tr>\n",
       "  </tbody>\n",
       "</table>\n",
       "</div>"
      ],
      "text/plain": [
       "  ID tích hợp            Thời gian  Giá trị đơn hàng Tiền chiết khấu  \\\n",
       "0    hd222111  2021-03-05 10:22:28          16720000          520000   \n",
       "1  hd223723-1  2021-03-05 14:11:09          23770000        1.13e+06   \n",
       "2  hd223723-2  2021-03-05 15:28:33          23720000        1.08e+06   \n",
       "3    hd223891  2021-03-05 15:03:45          23490000         5.5e+06   \n",
       "4  hd224709-1  2021-03-05 10:05:24          16560000          890000   \n",
       "\n",
       "  Tiền đặt cọc  Tổng thu Ghi chú của CSKH    Trạng thái        Chăm sóc KH  \\\n",
       "0            0  16720000                0  Hệ thống hủy    Nguyễn Thế Vinh   \n",
       "1            0  23770000                0  Hệ thống hủy        Trần Anh Vũ   \n",
       "2            0  23720000                0   Đã xác nhận  Nguyễn Hoàn Thiện   \n",
       "3            0  23490000                0    Thành công  Nguyễn Đinh Thuận   \n",
       "4            0  16560000        thieu LOA  Hệ thống hủy   Nguyễn Minh Hiếu   \n",
       "\n",
       "   Thiếu  Thieu  DH thiếu        Ngày xác nhận Nguồn đơn hàng  \n",
       "0      0      0         0                    0              0  \n",
       "1      0      0         0  2021-03-05 14:15:47          OTHER  \n",
       "2      0      0         0  2021-03-05 15:30:09          OTHER  \n",
       "3      0      0         0  2021-03-06 07:58:59          OTHER  \n",
       "4      0      1         1  2021-03-06 10:26:55          OTHER  "
      ]
     },
     "metadata": {},
     "output_type": "display_data"
    },
    {
     "name": "stdout",
     "output_type": "stream",
     "text": [
      "2021-06-25 16:21:18\n",
      "-------------------\n"
     ]
    }
   ],
   "source": [
    "pdf_order = pdf_gearvn[[\n",
    "    \"ID tích hợp\", \n",
    "    \"Thời gian\", # Sales created order\n",
    "    \"Giá trị đơn hàng\", \"Tiền chiết khấu\", \"Tiền đặt cọc\", \"Tổng thu\",\n",
    "    \"Ghi chú của CSKH\", \"Trạng thái\", \"Chăm sóc KH\", \"Thiếu\", \"Thieu\", \"DH thiếu\", \n",
    "    \"Ngày xác nhận\", # Storage confirmed timestamp\n",
    "    \"Nguồn đơn hàng\",\n",
    "]].fillna(\"0\").groupby([\"ID tích hợp\"], as_index=False).agg({\n",
    "    \"Thời gian\": \"max\", \n",
    "    \"Giá trị đơn hàng\": \"max\", \n",
    "    \"Tiền chiết khấu\": \"max\", \n",
    "    \"Tiền đặt cọc\": \"max\", \n",
    "    \"Tổng thu\": \"max\",\n",
    "    \"Ghi chú của CSKH\": \"max\", \n",
    "    \"Trạng thái\": \"max\", \n",
    "    \"Chăm sóc KH\": \"max\", \n",
    "    \"Thiếu\": \"max\", \n",
    "    \"Thieu\": \"max\", \n",
    "    \"DH thiếu\": \"max\", \n",
    "    \"Ngày xác nhận\": \"max\", \n",
    "    \"Nguồn đơn hàng\": \"max\"\n",
    "})\n",
    "\n",
    "print(f\"Number of order: {pdf_order.shape[0]}\")\n",
    "display(pdf_order.head())\n",
    "\n",
    "print_runtime()"
   ]
  },
  {
   "cell_type": "code",
   "execution_count": 93,
   "metadata": {},
   "outputs": [
    {
     "data": {
      "text/plain": [
       "(556, 14)"
      ]
     },
     "execution_count": 93,
     "metadata": {},
     "output_type": "execute_result"
    }
   ],
   "source": [
    "pdf_order.shape"
   ]
  },
  {
   "cell_type": "code",
   "execution_count": null,
   "metadata": {},
   "outputs": [],
   "source": []
  },
  {
   "cell_type": "markdown",
   "metadata": {},
   "source": [
    "# 8. Lambda functions <a id=\"lambda\"/a>\n",
    "\n",
    "#### I. Lambda function\n",
    "- A lambda function is a small anonymous function.\n",
    "- A lambda function can take any number of arguments, but can only have one expression.  \n",
    "Syntax:\n",
    "```\n",
    "lambda arg0[, arg1, ...]: expression\n",
    "```  \n",
    "Example:\n",
    "```\n",
    "x = lambda a: a+10\n",
    "print(x(5))\n",
    "```\n",
    "\n",
    "#### II. Map, Reduce, Filter  \n",
    "- Apply on list\n",
    "- Transform a list into another list\n",
    "  + Map: Transforming elements\n",
    "  + Filter: Choosing certain elements\n",
    "  + Both  \n",
    "  \n",
    "Syntax:\n",
    "```\n",
    "filter(boolean_function, list)\n",
    "map(transform_function, list)\n",
    "reduce(aggregate_function, list)\n",
    "```  \n",
    "- Lambda functions are usually combined with map, reduce, filter functions"
   ]
  },
  {
   "cell_type": "code",
   "execution_count": 4,
   "metadata": {},
   "outputs": [],
   "source": [
    "ls_number = np.random.randint(0, 20, size=10)"
   ]
  },
  {
   "cell_type": "code",
   "execution_count": 6,
   "metadata": {},
   "outputs": [
    {
     "data": {
      "text/plain": [
       "array([ 5, 18, 13,  7, 11, 13, 15, 15, 14, 15])"
      ]
     },
     "execution_count": 6,
     "metadata": {},
     "output_type": "execute_result"
    }
   ],
   "source": [
    "ls_number"
   ]
  },
  {
   "cell_type": "code",
   "execution_count": 5,
   "metadata": {},
   "outputs": [
    {
     "name": "stdout",
     "output_type": "stream",
     "text": [
      "2021-07-01 17:49:19\n",
      "-------------------\n"
     ]
    }
   ],
   "source": [
    "def is_prime(element):\n",
    "    if element == 2:\n",
    "        return True\n",
    "    elif element <= 1 or element % 2 == 0:\n",
    "        return False\n",
    "    else:\n",
    "        for i in range(3, element, 2):\n",
    "            if element % i == 0:\n",
    "                return False\n",
    "    return True\n",
    "print_runtime()"
   ]
  },
  {
   "cell_type": "code",
   "execution_count": 9,
   "metadata": {},
   "outputs": [
    {
     "name": "stdout",
     "output_type": "stream",
     "text": [
      "[5, 13, 7, 11, 13]\n",
      "[5, 13, 7, 11, 13]\n",
      "2021-07-01 17:52:09\n",
      "-------------------\n"
     ]
    }
   ],
   "source": [
    "ls_prime0 = [x for x in ls_number if is_prime(x)]\n",
    "ls_prime1 = filter(is_prime, ls_number)\n",
    "print(ls_prime0)\n",
    "print(list(ls_prime1))\n",
    "print_runtime()"
   ]
  },
  {
   "cell_type": "code",
   "execution_count": 10,
   "metadata": {},
   "outputs": [
    {
     "name": "stdout",
     "output_type": "stream",
     "text": [
      "[10, 36, 26, 14, 22, 26, 30, 30, 28, 30]\n",
      "[10, 36, 26, 14, 22, 26, 30, 30, 28, 30]\n",
      "[10, 36, 26, 14, 22, 26, 30, 30, 28, 30]\n",
      "2021-07-01 17:54:12\n",
      "-------------------\n"
     ]
    }
   ],
   "source": [
    "# map function demo\n",
    "def multiply_2(x):\n",
    "    return x*2\n",
    "\n",
    "ls_x2 = [x*2 for x in ls_number]\n",
    "ls_x2_map = map(multiply_2, ls_number)\n",
    "ls_x2_map_lambda = map(lambda x: x*2, ls_number)\n",
    "\n",
    "print(ls_x2)\n",
    "print(list(ls_x2_map))\n",
    "print(list(ls_x2_map_lambda))\n",
    "print_runtime()"
   ]
  },
  {
   "cell_type": "code",
   "execution_count": 12,
   "metadata": {},
   "outputs": [],
   "source": [
    "import functools"
   ]
  },
  {
   "cell_type": "code",
   "execution_count": 14,
   "metadata": {},
   "outputs": [
    {
     "name": "stdout",
     "output_type": "stream",
     "text": [
      "126 126 126\n",
      "2021-07-01 17:57:17\n",
      "-------------------\n"
     ]
    }
   ],
   "source": [
    "# reduce function demo\n",
    "def cal(x, y):\n",
    "    return x+y\n",
    "sum_val = sum(ls_number)\n",
    "sum_val_1 = functools.reduce(cal, ls_number)\n",
    "sum_val_2 = functools.reduce(lambda x, y: x+y, ls_number)\n",
    "print(sum_val, sum_val_1, sum_val_2)\n",
    "print_runtime()"
   ]
  },
  {
   "cell_type": "markdown",
   "metadata": {},
   "source": [
    "# 9. Files handling\n",
    "#### I. Open/Close Files\n",
    "- Open\n",
    "  -  Syntax:\n",
    "```\n",
    "obj_file = open(file_name, mode)\n",
    "```\n",
    "Open mode:  \n",
    "Read: \n",
    "`r, rb, r+, rb+`  \n",
    "Write: \n",
    "`w, wb, w+, wb+`  \n",
    "Append: \n",
    "`a, ab, a+, ab+`  \n",
    "\n",
    "- Close:  \n",
    "Syntax:\n",
    "```\n",
    "obj_file.close()\n",
    "```\n",
    "\n",
    "__Note__: Always close an opened file, otherwise the write method would not behavior correctly\n",
    "\n",
    "Preferred method:\n",
    "  ```\n",
    "  with open(file_name, mode) as f:\n",
    "      # Doing task\n",
    "  ```\n",
    "#### II. Read/Write\n",
    "- Write:  \n",
    "  - Syntax:\n",
    "  ```\n",
    "  obj_file.write(string)\n",
    "  ```\n",
    "- Read:\n",
    "  - Syntax:\n",
    "  ```\n",
    "  output = obj_file.read(size)\n",
    "  line = f.readline()\n",
    "  ```\n",
    "  \n",
    "[Tutorialspoint](#https://www.tutorialspoint.com/python3/python_files_io.htm)  \n",
    "[Python Docs](#https://docs.python.org/3/tutorial/inputoutput.html)"
   ]
  },
  {
   "cell_type": "code",
   "execution_count": 29,
   "metadata": {},
   "outputs": [
    {
     "name": "stdout",
     "output_type": "stream",
     "text": [
      "Read file example\r\n",
      "Read file example Read file example"
     ]
    }
   ],
   "source": [
    "!cat data/example00.txt"
   ]
  },
  {
   "cell_type": "code",
   "execution_count": 30,
   "metadata": {},
   "outputs": [],
   "source": [
    "# Demo: Open a file, read first line, append to that file\n",
    "obj_file = open(\"data/example00.txt\", \"r+\")\n",
    "line = obj_file.readline()\n",
    "new_line = \"\\n\" + line + \" \" + line\n",
    "\n",
    "obj_file.write(new_line)\n",
    "obj_file.close()"
   ]
  },
  {
   "cell_type": "code",
   "execution_count": 31,
   "metadata": {},
   "outputs": [
    {
     "name": "stdout",
     "output_type": "stream",
     "text": [
      "Read file example\r\n",
      "Read file example Read file example\r\n",
      "Read file example\r\n",
      " Read file example\r\n"
     ]
    }
   ],
   "source": [
    "!cat data/example00.txt"
   ]
  },
  {
   "cell_type": "code",
   "execution_count": null,
   "metadata": {},
   "outputs": [],
   "source": []
  },
  {
   "cell_type": "code",
   "execution_count": 32,
   "metadata": {},
   "outputs": [
    {
     "name": "stdout",
     "output_type": "stream",
     "text": [
      "Read file example\r\n",
      "The other exampleRead file example Read file example"
     ]
    }
   ],
   "source": [
    "!cat data/example01.txt"
   ]
  },
  {
   "cell_type": "code",
   "execution_count": 33,
   "metadata": {},
   "outputs": [],
   "source": [
    "# Demo: Open a file, read first line, swapcase, append to that file\n",
    "with open(\"data/example01.txt\", \"r+\") as obj_file:\n",
    "    line = obj_file.readline()\n",
    "    new_line = \"\\nThe other example\" + line + \" \" + line\n",
    "\n",
    "    obj_file.write(new_line)"
   ]
  },
  {
   "cell_type": "code",
   "execution_count": 34,
   "metadata": {},
   "outputs": [
    {
     "name": "stdout",
     "output_type": "stream",
     "text": [
      "Read file example\r\n",
      "The other exampleRead file example Read file example\r\n",
      "The other exampleRead file example\r\n",
      " Read file example\r\n"
     ]
    }
   ],
   "source": [
    "!cat data/example01.txt"
   ]
  },
  {
   "cell_type": "code",
   "execution_count": null,
   "metadata": {},
   "outputs": [],
   "source": [
    "try:\n",
    "    # Do sth\n",
    "    assert(<Conditions>, \"Error messages\")\n",
    "except ValueError as vex:\n",
    "    # Do sth when error\n",
    "    \n",
    "except Exception as ex:\n",
    "    # Do sth when error\n",
    "    \n",
    "finally:\n",
    "    # After the try or except done!"
   ]
  }
 ],
 "metadata": {
  "kernelspec": {
   "display_name": "Python 3",
   "language": "python",
   "name": "python3"
  },
  "language_info": {
   "codemirror_mode": {
    "name": "ipython",
    "version": 3
   },
   "file_extension": ".py",
   "mimetype": "text/x-python",
   "name": "python",
   "nbconvert_exporter": "python",
   "pygments_lexer": "ipython3",
   "version": "3.6.4"
  }
 },
 "nbformat": 4,
 "nbformat_minor": 2
}
