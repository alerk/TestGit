{
 "cells": [
  {
   "cell_type": "markdown",
   "metadata": {},
   "source": [
    "# I. Part I - Interview Just Analytic"
   ]
  },
  {
   "cell_type": "code",
   "execution_count": 2,
   "metadata": {},
   "outputs": [],
   "source": [
    "import re"
   ]
  },
  {
   "cell_type": "code",
   "execution_count": 8,
   "metadata": {},
   "outputs": [
    {
     "name": "stdout",
     "output_type": "stream",
     "text": [
      "Mike_Standish\n",
      "<_sre.SRE_Match object; span=(0, 13), match='Mike_Standish'>\n",
      "True\n",
      "Mike Standish\n",
      "None\n",
      "False\n",
      "abc\n",
      "False\n"
     ]
    }
   ],
   "source": [
    "def validate(username):\n",
    "    print(username)\n",
    "    if len(username) < 4:\n",
    "        return False\n",
    "    pattern = r\"^[a-zA-Z]+\\w*[a-zA-Z]+$\"\n",
    "    regex = re.compile(pattern)\n",
    "    result = regex.match(username)\n",
    "    print(result)\n",
    "    return (result is not None)\n",
    "\n",
    "print(validate(\"Mike_Standish\")) #Valid username\n",
    "print(validate(\"Mike Standish\")) #Invalid username\n",
    "print(validate(\"abc\"))"
   ]
  },
  {
   "cell_type": "code",
   "execution_count": 44,
   "metadata": {},
   "outputs": [],
   "source": [
    "class MovingTotal:\n",
    "    lsNum = list()\n",
    "    lsSum = list() # Sorted list of sum\n",
    "\n",
    "    def append(self, numbers):\n",
    "        \"\"\"\n",
    "        :param numbers: (list) The list of numbers.\n",
    "        \"\"\"\n",
    "        if len(numbers) == 0:\n",
    "            # Doing nothing\n",
    "            return 0\n",
    "        prevLen = len(self.lsNum)\n",
    "        self.lsNum.extend(numbers)\n",
    "        print(self.lsNum)\n",
    "        curLen = len(self.lsNum)\n",
    "        # if prevLen < 3 and curLen >= 3:\n",
    "        #     # Calculate movingSum for all\n",
    "        #     for i in range(curLen-2):\n",
    "        #         self.lsSum.add(sum(self.lsNum[i: i+3]))\n",
    "        # elif prevLen >= 3:\n",
    "        # Calculate movingSum for new items\n",
    "        if curLen >= 3:\n",
    "            for i in range(prevLen, curLen):\n",
    "                sumItem = sum(self.lsNum[i-2: i+1])\n",
    "                found, idx = self.search(sumItem)\n",
    "                print(f\"{sumItem} - {found} - {idx}\")\n",
    "                if not found:\n",
    "                    if idx == -1:\n",
    "                        self.lsSum.append(sumItem)\n",
    "                    elif sumItem < self.lsSum[idx]:\n",
    "                        self.lsSum.insert(idx, sumItem)\n",
    "                    else:\n",
    "                        self.lsSum.insert(idx+1, sumItem)\n",
    "                    print(self.lsSum)\n",
    "        else:\n",
    "            print(\"Not enough data\")\n",
    "        print(\"-\"*5)\n",
    "        return 0\n",
    "    \n",
    "    def search(self, x):\n",
    "        # Binary search for total\n",
    "        n = len(self.lsSum)\n",
    "        if n == 0:\n",
    "            return (False, -1)\n",
    "        k = n / 2\n",
    "        low = 0\n",
    "        high = n - 1\n",
    "        mid = 0\n",
    "        while low <= high:\n",
    "            mid = (low+high)//2\n",
    "            if self.lsSum[mid] < x:\n",
    "                low = mid + 1\n",
    "            elif x < self.lsSum[mid]:\n",
    "                high = mid - 1\n",
    "            else:\n",
    "                return (True, mid) # Found, Index of the value\n",
    "        return (False, mid) # Not found, index of the nearest\n",
    "\n",
    "    def contains(self, total):\n",
    "        \"\"\"\n",
    "        :param total: (int) The total to check for.\n",
    "        :returns: (bool) If MovingTotal contains the total.\n",
    "        \"\"\"\n",
    "        \n",
    "        return self.search(total)[0]"
   ]
  },
  {
   "cell_type": "code",
   "execution_count": 45,
   "metadata": {},
   "outputs": [
    {
     "name": "stdout",
     "output_type": "stream",
     "text": [
      "[1, 2]\n",
      "Not enough data\n",
      "-----\n",
      "False\n",
      "False\n",
      "False\n",
      "False\n",
      "[1, 2, 1, 2, 3, 4]\n",
      "4 - False - -1\n",
      "[4]\n",
      "5 - False - 0\n",
      "[4, 5]\n",
      "6 - False - 1\n",
      "[4, 5, 6]\n",
      "9 - False - 2\n",
      "[4, 5, 6, 9]\n",
      "-----\n",
      "True\n",
      "True\n",
      "False\n",
      "False\n",
      "[1, 2, 1, 2, 3, 4, 5]\n",
      "12 - False - 3\n",
      "[4, 5, 6, 9, 12]\n",
      "-----\n",
      "True\n",
      "True\n",
      "True\n",
      "False\n",
      "[1, 2, 1, 2, 3, 4, 5, 1, 2, 3, 4]\n",
      "10 - False - 4\n",
      "[4, 5, 6, 9, 10, 12]\n",
      "8 - False - 3\n",
      "[4, 5, 6, 8, 9, 10, 12]\n",
      "6 - True - 2\n",
      "9 - True - 4\n",
      "-----\n",
      "True\n",
      "True\n",
      "True\n",
      "False\n"
     ]
    }
   ],
   "source": [
    "movingtotal = MovingTotal()\n",
    "\n",
    "movingtotal.append([1, 2])\n",
    "print(movingtotal.contains(6))\n",
    "print(movingtotal.contains(9))\n",
    "print(movingtotal.contains(12))\n",
    "print(movingtotal.contains(7))\n",
    "\n",
    "movingtotal.append([1, 2, 3, 4])\n",
    "print(movingtotal.contains(6))\n",
    "print(movingtotal.contains(9))\n",
    "print(movingtotal.contains(12))\n",
    "print(movingtotal.contains(7))\n",
    "\n",
    "movingtotal.append([5])\n",
    "print(movingtotal.contains(6))\n",
    "print(movingtotal.contains(9))\n",
    "print(movingtotal.contains(12))\n",
    "print(movingtotal.contains(7))\n",
    "\n",
    "movingtotal.append([1, 2, 3, 4])\n",
    "print(movingtotal.contains(6))\n",
    "print(movingtotal.contains(9))\n",
    "print(movingtotal.contains(12))\n",
    "print(movingtotal.contains(7))"
   ]
  },
  {
   "cell_type": "code",
   "execution_count": 20,
   "metadata": {},
   "outputs": [
    {
     "data": {
      "text/plain": [
       "[4]"
      ]
     },
     "execution_count": 20,
     "metadata": {},
     "output_type": "execute_result"
    }
   ],
   "source": [
    "[i for i in range(4, 5)]"
   ]
  },
  {
   "cell_type": "code",
   "execution_count": 50,
   "metadata": {},
   "outputs": [
    {
     "name": "stdout",
     "output_type": "stream",
     "text": [
      "['date_of_birth', 'eye_color', 'hair_color']\n"
     ]
    },
    {
     "ename": "TypeError",
     "evalue": "namedtuple() got an unexpected keyword argument 'defaults'",
     "output_type": "error",
     "traceback": [
      "\u001b[0;31m---------------------------------------------------------------------------\u001b[0m",
      "\u001b[0;31mTypeError\u001b[0m                                 Traceback (most recent call last)",
      "\u001b[0;32m<ipython-input-50-09ae0382b61f>\u001b[0m in \u001b[0;36m<module>\u001b[0;34m()\u001b[0m\n\u001b[1;32m     23\u001b[0m \u001b[0mcomplexion\u001b[0m \u001b[0;34m=\u001b[0m \u001b[0mComplexion\u001b[0m\u001b[0;34m(\u001b[0m\u001b[0meye_color\u001b[0m \u001b[0;34m=\u001b[0m \u001b[0;34m'Blue'\u001b[0m\u001b[0;34m,\u001b[0m \u001b[0mhair_color\u001b[0m \u001b[0;34m=\u001b[0m \u001b[0;34m'Black'\u001b[0m\u001b[0;34m)\u001b[0m\u001b[0;34m\u001b[0m\u001b[0m\n\u001b[1;32m     24\u001b[0m \u001b[0;34m\u001b[0m\u001b[0m\n\u001b[0;32m---> 25\u001b[0;31m \u001b[0mprint\u001b[0m\u001b[0;34m(\u001b[0m\u001b[0mmerge\u001b[0m\u001b[0;34m(\u001b[0m\u001b[0mpersonal_details\u001b[0m\u001b[0;34m,\u001b[0m \u001b[0mcomplexion\u001b[0m\u001b[0;34m)\u001b[0m\u001b[0;34m)\u001b[0m\u001b[0;34m\u001b[0m\u001b[0m\n\u001b[0m",
      "\u001b[0;32m<ipython-input-50-09ae0382b61f>\u001b[0m in \u001b[0;36mmerge\u001b[0;34m(*records)\u001b[0m\n\u001b[1;32m     10\u001b[0m         \u001b[0mlsField\u001b[0m\u001b[0;34m.\u001b[0m\u001b[0mextend\u001b[0m\u001b[0;34m(\u001b[0m\u001b[0mt\u001b[0m\u001b[0;34m.\u001b[0m\u001b[0m_fields\u001b[0m\u001b[0;34m)\u001b[0m\u001b[0;34m\u001b[0m\u001b[0m\n\u001b[1;32m     11\u001b[0m     \u001b[0mprint\u001b[0m\u001b[0;34m(\u001b[0m\u001b[0mlsField\u001b[0m\u001b[0;34m)\u001b[0m\u001b[0;34m\u001b[0m\u001b[0m\n\u001b[0;32m---> 12\u001b[0;31m     \u001b[0mPatient\u001b[0m \u001b[0;34m=\u001b[0m \u001b[0mnamedtuple\u001b[0m\u001b[0;34m(\u001b[0m\u001b[0;34m\"Patient\"\u001b[0m\u001b[0;34m,\u001b[0m \u001b[0mlsField\u001b[0m\u001b[0;34m,\u001b[0m \u001b[0mdefaults\u001b[0m\u001b[0;34m=\u001b[0m\u001b[0;34m(\u001b[0m\u001b[0;32mNone\u001b[0m\u001b[0;34m,\u001b[0m\u001b[0;34m)\u001b[0m \u001b[0;34m*\u001b[0m \u001b[0mlen\u001b[0m\u001b[0;34m(\u001b[0m\u001b[0mlsField\u001b[0m\u001b[0;34m)\u001b[0m\u001b[0;34m)\u001b[0m\u001b[0;34m\u001b[0m\u001b[0m\n\u001b[0m\u001b[1;32m     13\u001b[0m     \u001b[0mpatient\u001b[0m \u001b[0;34m=\u001b[0m \u001b[0mPatient\u001b[0m\u001b[0;34m(\u001b[0m\u001b[0;34m)\u001b[0m\u001b[0;34m\u001b[0m\u001b[0m\n\u001b[1;32m     14\u001b[0m     \u001b[0;32mfor\u001b[0m \u001b[0mt\u001b[0m \u001b[0;32min\u001b[0m \u001b[0mrecords\u001b[0m\u001b[0;34m:\u001b[0m\u001b[0;34m\u001b[0m\u001b[0m\n",
      "\u001b[0;31mTypeError\u001b[0m: namedtuple() got an unexpected keyword argument 'defaults'"
     ]
    }
   ],
   "source": [
    "from collections import namedtuple\n",
    "\n",
    "def merge(*records):\n",
    "    \"\"\"\n",
    "    :param records: (varargs list of namedtuple) The patient details.\n",
    "    :returns: (namedtuple) named Patient, containing details from all records, in entry order.\n",
    "    \"\"\" \n",
    "    lsField = []\n",
    "    for t in records:\n",
    "        lsField.extend(t._fields)\n",
    "    print(lsField)\n",
    "    Patient = namedtuple(\"Patient\", lsField, defaults=(None,) * len(lsField))\n",
    "    patient = Patient()\n",
    "    for t in records:\n",
    "        for f in t._fields:\n",
    "            patient[f] = t[f]\n",
    "    return patient\n",
    "    \n",
    "PersonalDetails = namedtuple('PersonalDetails', ['date_of_birth'])\n",
    "personal_details = PersonalDetails(date_of_birth = '06-04-1972')\n",
    "                                   \n",
    "Complexion = namedtuple('Complexion', ['eye_color', 'hair_color'])\n",
    "complexion = Complexion(eye_color = 'Blue', hair_color = 'Black')\n",
    "  \n",
    "print(merge(personal_details, complexion))"
   ]
  },
  {
   "cell_type": "markdown",
   "metadata": {},
   "source": [
    "# II. Part II - Practice"
   ]
  },
  {
   "cell_type": "markdown",
   "metadata": {},
   "source": [
    "## A. DL Models for Univariate Time Series Forecasting"
   ]
  },
  {
   "cell_type": "markdown",
   "metadata": {},
   "source": [
    "### Source: \n",
    "<a href=\"https://machinelearningmastery.com/how-to-develop-deep-learning-models-for-univariate-time-series-forecasting/\"> Deep learning Models for Time Series </a>\n",
    "- Data: monthly-car-sales.csv\n"
   ]
  },
  {
   "cell_type": "code",
   "execution_count": 6,
   "metadata": {},
   "outputs": [],
   "source": [
    "import pandas as pd, numpy as np\n",
    "import sys, os\n",
    "from datetime import datetime, timedelta\n",
    "import math\n",
    "from matplotlib import pyplot as plt\n",
    "import seaborn as sns\n"
   ]
  },
  {
   "cell_type": "code",
   "execution_count": 3,
   "metadata": {},
   "outputs": [
    {
     "name": "stdout",
     "output_type": "stream",
     "text": [
      "2021-06-22 17:20:32\n",
      "-------------------\n"
     ]
    }
   ],
   "source": [
    "def print_runtime():\n",
    "    print(datetime.now().strftime(\"%Y-%m-%d %H:%M:%S\"))\n",
    "    print(\"-\"*19)\n",
    "print_runtime()"
   ]
  },
  {
   "cell_type": "code",
   "execution_count": 4,
   "metadata": {},
   "outputs": [
    {
     "name": "stdout",
     "output_type": "stream",
     "text": [
      "(108, 1)\n",
      "2021-06-22 17:20:45\n",
      "-------------------\n"
     ]
    }
   ],
   "source": [
    "# load data\n",
    "data_path = \"./data/monthly-car-sales.csv\"\n",
    "series = pd.read_csv(data_path, header=0, index_col=0)\n",
    "print(series.shape)\n",
    "print_runtime()"
   ]
  },
  {
   "cell_type": "code",
   "execution_count": 8,
   "metadata": {},
   "outputs": [
    {
     "data": {
      "text/html": [
       "<div>\n",
       "<style scoped>\n",
       "    .dataframe tbody tr th:only-of-type {\n",
       "        vertical-align: middle;\n",
       "    }\n",
       "\n",
       "    .dataframe tbody tr th {\n",
       "        vertical-align: top;\n",
       "    }\n",
       "\n",
       "    .dataframe thead th {\n",
       "        text-align: right;\n",
       "    }\n",
       "</style>\n",
       "<table border=\"1\" class=\"dataframe\">\n",
       "  <thead>\n",
       "    <tr style=\"text-align: right;\">\n",
       "      <th></th>\n",
       "      <th>Sales</th>\n",
       "    </tr>\n",
       "    <tr>\n",
       "      <th>Month</th>\n",
       "      <th></th>\n",
       "    </tr>\n",
       "  </thead>\n",
       "  <tbody>\n",
       "    <tr>\n",
       "      <th>1960-01</th>\n",
       "      <td>6550</td>\n",
       "    </tr>\n",
       "    <tr>\n",
       "      <th>1960-02</th>\n",
       "      <td>8728</td>\n",
       "    </tr>\n",
       "    <tr>\n",
       "      <th>1960-03</th>\n",
       "      <td>12026</td>\n",
       "    </tr>\n",
       "    <tr>\n",
       "      <th>1960-04</th>\n",
       "      <td>14395</td>\n",
       "    </tr>\n",
       "    <tr>\n",
       "      <th>1960-05</th>\n",
       "      <td>14587</td>\n",
       "    </tr>\n",
       "  </tbody>\n",
       "</table>\n",
       "</div>"
      ],
      "text/plain": [
       "         Sales\n",
       "Month         \n",
       "1960-01   6550\n",
       "1960-02   8728\n",
       "1960-03  12026\n",
       "1960-04  14395\n",
       "1960-05  14587"
      ]
     },
     "metadata": {},
     "output_type": "display_data"
    },
    {
     "name": "stdout",
     "output_type": "stream",
     "text": [
      "2021-06-22 17:25:54\n",
      "-------------------\n"
     ]
    }
   ],
   "source": [
    "display(series.head())\n",
    "print_runtime()"
   ]
  },
  {
   "cell_type": "code",
   "execution_count": 7,
   "metadata": {},
   "outputs": [
    {
     "data": {
      "image/png": "[encoded data removed]",
      "text/plain": [
       "<matplotlib.figure.Figure at 0x11480cb00>"
      ]
     },
     "metadata": {},
     "output_type": "display_data"
    }
   ],
   "source": [
    "plt.plot(series)\n",
    "plt.show()"
   ]
  },
  {
   "cell_type": "code",
   "execution_count": 10,
   "metadata": {},
   "outputs": [
    {
     "data": {
      "text/plain": [
       "<matplotlib.axes._subplots.AxesSubplot at 0x114e6e400>"
      ]
     },
     "execution_count": 10,
     "metadata": {},
     "output_type": "execute_result"
    },
    {
     "data": {
      "image/png": "[encoded data removed]",
      "text/plain": [
       "<matplotlib.figure.Figure at 0x114e12d68>"
      ]
     },
     "metadata": {},
     "output_type": "display_data"
    }
   ],
   "source": [
    "sns.pointplot(y=\"Sales\", data=series)"
   ]
  },
  {
   "cell_type": "code",
   "execution_count": null,
   "metadata": {},
   "outputs": [],
   "source": []
  }
 ],
 "metadata": {
  "kernelspec": {
   "display_name": "Python 3",
   "language": "python",
   "name": "python3"
  },
  "language_info": {
   "codemirror_mode": {
    "name": "ipython",
    "version": 3
   },
   "file_extension": ".py",
   "mimetype": "text/x-python",
   "name": "python",
   "nbconvert_exporter": "python",
   "pygments_lexer": "ipython3",
   "version": "3.6.4"
  }
 },
 "nbformat": 4,
 "nbformat_minor": 2
}
