{
 "cells": [
  {
   "cell_type": "code",
   "execution_count": 1,
   "source": [
    "import pandas as pd, numpy as np\n",
    "import sys, os\n",
    "from pprint import pprint\n",
    "import random\n",
    "from datetime import datetime, timedelta"
   ],
   "outputs": [],
   "metadata": {}
  },
  {
   "cell_type": "code",
   "execution_count": 2,
   "source": [
    "import seaborn as sns\n",
    "from matplotlib import pyplot as plt"
   ],
   "outputs": [],
   "metadata": {}
  },
  {
   "cell_type": "code",
   "execution_count": 3,
   "source": [
    "def print_runtime():\n",
    "    print(datetime.now().strftime(\"%Y-%m-%d %H:%M:%S\"))\n",
    "    print(\"-\"*19)\n",
    "print_runtime()"
   ],
   "outputs": [
    {
     "output_type": "stream",
     "name": "stdout",
     "text": [
      "2021-09-10 00:38:35\n",
      "-------------------\n"
     ]
    }
   ],
   "metadata": {}
  },
  {
   "cell_type": "markdown",
   "source": [
    "# 1. GearVN Data"
   ],
   "metadata": {}
  },
  {
   "cell_type": "code",
   "execution_count": null,
   "source": [
    "source_path = \"./data/Data-GEARVN.csv\"\n",
    "pdf_gearvn = pd.read_csv(source_path)\n",
    "print(pdf_gearvn.shape)\n",
    "display(pdf_gearvn.head())\n",
    "print_runtime()"
   ],
   "outputs": [
    {
     "output_type": "stream",
     "name": "stdout",
     "text": [
      "(9782, 28)\n"
     ]
    },
    {
     "data": {
      "text/html": [
       "<div>\n",
       "<style scoped>\n",
       "    .dataframe tbody tr th:only-of-type {\n",
       "        vertical-align: middle;\n",
       "    }\n",
       "\n",
       "    .dataframe tbody tr th {\n",
       "        vertical-align: top;\n",
       "    }\n",
       "\n",
       "    .dataframe thead th {\n",
       "        text-align: right;\n",
       "    }\n",
       "</style>\n",
       "<table border=\"1\" class=\"dataframe\">\n",
       "  <thead>\n",
       "    <tr style=\"text-align: right;\">\n",
       "      <th></th>\n",
       "      <th>ID tích hợp</th>\n",
       "      <th>Thời gian</th>\n",
       "      <th>Kho lấy hàng</th>\n",
       "      <th>Thành phố</th>\n",
       "      <th>Quận huyện</th>\n",
       "      <th>Mã sản phẩm</th>\n",
       "      <th>Ngành</th>\n",
       "      <th>Hãng</th>\n",
       "      <th>Mã chung</th>\n",
       "      <th>Mã riêng</th>\n",
       "      <th>...</th>\n",
       "      <th>Ghi chú của CSKH</th>\n",
       "      <th>Trạng thái</th>\n",
       "      <th>Chăm sóc KH</th>\n",
       "      <th>Thiếu</th>\n",
       "      <th>Thieu</th>\n",
       "      <th>DH thiếu</th>\n",
       "      <th>Ngày xác nhận</th>\n",
       "      <th>Thời gian xác nhận</th>\n",
       "      <th>Nguồn đơn hàng</th>\n",
       "      <th>Column1</th>\n",
       "    </tr>\n",
       "  </thead>\n",
       "  <tbody>\n",
       "    <tr>\n",
       "      <th>0</th>\n",
       "      <td>hd211915</td>\n",
       "      <td>07-02-21 21:48</td>\n",
       "      <td>2 HCM-HHT-KD-V.2</td>\n",
       "      <td>Hồ Chí Minh</td>\n",
       "      <td>Quận Gò Vấp</td>\n",
       "      <td>CHU-LOG-G304</td>\n",
       "      <td>CHU</td>\n",
       "      <td>LOGITECH</td>\n",
       "      <td>NaN</td>\n",
       "      <td>NaN</td>\n",
       "      <td>...</td>\n",
       "      <td>thieu chuot</td>\n",
       "      <td>Thành công</td>\n",
       "      <td>Nguyễn Anh Nguyên</td>\n",
       "      <td>-</td>\n",
       "      <td>-</td>\n",
       "      <td>-</td>\n",
       "      <td>07-02-21 21:55</td>\n",
       "      <td>0:02:04</td>\n",
       "      <td>SHOWROOMHHT</td>\n",
       "      <td>NaN</td>\n",
       "    </tr>\n",
       "    <tr>\n",
       "      <th>1</th>\n",
       "      <td>hd211915</td>\n",
       "      <td>07-02-21 21:48</td>\n",
       "      <td>2 HCM-HHT-KD-V.2</td>\n",
       "      <td>Hồ Chí Minh</td>\n",
       "      <td>Quận Gò Vấp</td>\n",
       "      <td>KB-COR-K63-WIRELESS-MX-RD</td>\n",
       "      <td>KB</td>\n",
       "      <td>CORSAIR</td>\n",
       "      <td>NaN</td>\n",
       "      <td>NaN</td>\n",
       "      <td>...</td>\n",
       "      <td>thieu chuot</td>\n",
       "      <td>Thành công</td>\n",
       "      <td>Nguyễn Anh Nguyên</td>\n",
       "      <td>-</td>\n",
       "      <td>-</td>\n",
       "      <td>-</td>\n",
       "      <td>07-02-21 21:55</td>\n",
       "      <td>0:00:00</td>\n",
       "      <td>SHOWROOMHHT</td>\n",
       "      <td>NaN</td>\n",
       "    </tr>\n",
       "    <tr>\n",
       "      <th>2</th>\n",
       "      <td>hd211916</td>\n",
       "      <td>07-02-21 21:47</td>\n",
       "      <td>8 HCM-CQ-KD</td>\n",
       "      <td>Hồ Chí Minh</td>\n",
       "      <td>Quận 1</td>\n",
       "      <td>HDD-WD-BLUE-1TB</td>\n",
       "      <td>HDD</td>\n",
       "      <td>WD</td>\n",
       "      <td>NaN</td>\n",
       "      <td>NaN</td>\n",
       "      <td>...</td>\n",
       "      <td>NaN</td>\n",
       "      <td>Thành công</td>\n",
       "      <td>Trần Thiện Tý</td>\n",
       "      <td>-</td>\n",
       "      <td>-</td>\n",
       "      <td>-</td>\n",
       "      <td>07-02-21 21:48</td>\n",
       "      <td>0:00:00</td>\n",
       "      <td>SHOWROOMHHT</td>\n",
       "      <td>NaN</td>\n",
       "    </tr>\n",
       "    <tr>\n",
       "      <th>3</th>\n",
       "      <td>hd211914</td>\n",
       "      <td>07-02-21 21:42</td>\n",
       "      <td>2 HCM-HHT-KD-V.2</td>\n",
       "      <td>Bình Dương</td>\n",
       "      <td>Thị xã Tân Uyên</td>\n",
       "      <td>TAI-STE-ARCTIS-7-WHITE</td>\n",
       "      <td>TAI</td>\n",
       "      <td>STEELSERIES</td>\n",
       "      <td>NaN</td>\n",
       "      <td>NaN</td>\n",
       "      <td>...</td>\n",
       "      <td>NaN</td>\n",
       "      <td>Hệ thống hủy</td>\n",
       "      <td>Nguyễn Anh Nguyên</td>\n",
       "      <td>-</td>\n",
       "      <td>-</td>\n",
       "      <td>-</td>\n",
       "      <td>07-02-21 21:44</td>\n",
       "      <td>0:00:00</td>\n",
       "      <td>SHOWROOMHHT</td>\n",
       "      <td>NaN</td>\n",
       "    </tr>\n",
       "    <tr>\n",
       "      <th>4</th>\n",
       "      <td>hd211914</td>\n",
       "      <td>07-02-21 21:42</td>\n",
       "      <td>2 HCM-HHT-KD-V.2</td>\n",
       "      <td>Bình Dương</td>\n",
       "      <td>Thị xã Tân Uyên</td>\n",
       "      <td>PK-KING-BINH-GIU-NHIET-BLK</td>\n",
       "      <td>PK</td>\n",
       "      <td>KINGSTON</td>\n",
       "      <td>NaN</td>\n",
       "      <td>NaN</td>\n",
       "      <td>...</td>\n",
       "      <td>NaN</td>\n",
       "      <td>Hệ thống hủy</td>\n",
       "      <td>Nguyễn Anh Nguyên</td>\n",
       "      <td>-</td>\n",
       "      <td>-</td>\n",
       "      <td>-</td>\n",
       "      <td>07-02-21 21:44</td>\n",
       "      <td>0:00:00</td>\n",
       "      <td>SHOWROOMHHT</td>\n",
       "      <td>NaN</td>\n",
       "    </tr>\n",
       "  </tbody>\n",
       "</table>\n",
       "<p>5 rows × 28 columns</p>\n",
       "</div>"
      ],
      "text/plain": [
       "  ID tích hợp       Thời gian      Kho lấy hàng    Thành phố       Quận huyện  \\\n",
       "0    hd211915  07-02-21 21:48  2 HCM-HHT-KD-V.2  Hồ Chí Minh      Quận Gò Vấp   \n",
       "1    hd211915  07-02-21 21:48  2 HCM-HHT-KD-V.2  Hồ Chí Minh      Quận Gò Vấp   \n",
       "2    hd211916  07-02-21 21:47       8 HCM-CQ-KD  Hồ Chí Minh           Quận 1   \n",
       "3    hd211914  07-02-21 21:42  2 HCM-HHT-KD-V.2   Bình Dương  Thị xã Tân Uyên   \n",
       "4    hd211914  07-02-21 21:42  2 HCM-HHT-KD-V.2   Bình Dương  Thị xã Tân Uyên   \n",
       "\n",
       "                  Mã sản phẩm Ngành         Hãng Mã chung Mã riêng   ...    \\\n",
       "0                CHU-LOG-G304   CHU     LOGITECH      NaN      NaN   ...     \n",
       "1   KB-COR-K63-WIRELESS-MX-RD    KB      CORSAIR      NaN      NaN   ...     \n",
       "2             HDD-WD-BLUE-1TB   HDD           WD      NaN      NaN   ...     \n",
       "3      TAI-STE-ARCTIS-7-WHITE   TAI  STEELSERIES      NaN      NaN   ...     \n",
       "4  PK-KING-BINH-GIU-NHIET-BLK    PK     KINGSTON      NaN      NaN   ...     \n",
       "\n",
       "  Ghi chú của CSKH    Trạng thái        Chăm sóc KH  Thiếu  Thieu DH thiếu  \\\n",
       "0      thieu chuot    Thành công  Nguyễn Anh Nguyên   -      -        -      \n",
       "1      thieu chuot    Thành công  Nguyễn Anh Nguyên   -      -        -      \n",
       "2              NaN    Thành công      Trần Thiện Tý   -      -        -      \n",
       "3              NaN  Hệ thống hủy  Nguyễn Anh Nguyên   -      -        -      \n",
       "4              NaN  Hệ thống hủy  Nguyễn Anh Nguyên   -      -        -      \n",
       "\n",
       "    Ngày xác nhận Thời gian xác nhận Nguồn đơn hàng Column1  \n",
       "0  07-02-21 21:55            0:02:04    SHOWROOMHHT     NaN  \n",
       "1  07-02-21 21:55            0:00:00    SHOWROOMHHT     NaN  \n",
       "2  07-02-21 21:48            0:00:00    SHOWROOMHHT     NaN  \n",
       "3  07-02-21 21:44            0:00:00    SHOWROOMHHT     NaN  \n",
       "4  07-02-21 21:44            0:00:00    SHOWROOMHHT     NaN  \n",
       "\n",
       "[5 rows x 28 columns]"
      ]
     },
     "metadata": {},
     "output_type": "display_data"
    },
    {
     "output_type": "stream",
     "name": "stdout",
     "text": [
      "2021-09-10 00:41:31\n",
      "-------------------\n"
     ]
    }
   ],
   "metadata": {}
  },
  {
   "cell_type": "markdown",
   "source": [
    "## Separate into small tables"
   ],
   "metadata": {}
  },
  {
   "cell_type": "code",
   "execution_count": null,
   "source": [
    "pdf_agent = pdf_gearvn[[\"Chăm sóc KH\"]].drop_duplicates()\n",
    "print(f\"Number of agents: {pdf_agent.shape[0]}\")\n",
    "display(pdf_agent.head())\n",
    "\n",
    "print_runtime()"
   ],
   "outputs": [
    {
     "output_type": "stream",
     "name": "stdout",
     "text": [
      "Number of agents: 22\n"
     ]
    },
    {
     "data": {
      "text/html": [
       "<div>\n",
       "<style scoped>\n",
       "    .dataframe tbody tr th:only-of-type {\n",
       "        vertical-align: middle;\n",
       "    }\n",
       "\n",
       "    .dataframe tbody tr th {\n",
       "        vertical-align: top;\n",
       "    }\n",
       "\n",
       "    .dataframe thead th {\n",
       "        text-align: right;\n",
       "    }\n",
       "</style>\n",
       "<table border=\"1\" class=\"dataframe\">\n",
       "  <thead>\n",
       "    <tr style=\"text-align: right;\">\n",
       "      <th></th>\n",
       "      <th>Chăm sóc KH</th>\n",
       "    </tr>\n",
       "  </thead>\n",
       "  <tbody>\n",
       "    <tr>\n",
       "      <th>0</th>\n",
       "      <td>Nguyễn Anh Nguyên</td>\n",
       "    </tr>\n",
       "    <tr>\n",
       "      <th>2</th>\n",
       "      <td>Trần Thiện Tý</td>\n",
       "    </tr>\n",
       "    <tr>\n",
       "      <th>5</th>\n",
       "      <td>Phạm Ngọc Hiếu</td>\n",
       "    </tr>\n",
       "    <tr>\n",
       "      <th>9</th>\n",
       "      <td>Trần Anh Vũ</td>\n",
       "    </tr>\n",
       "    <tr>\n",
       "      <th>12</th>\n",
       "      <td>Võ Quốc Khánh</td>\n",
       "    </tr>\n",
       "  </tbody>\n",
       "</table>\n",
       "</div>"
      ],
      "text/plain": [
       "          Chăm sóc KH\n",
       "0   Nguyễn Anh Nguyên\n",
       "2       Trần Thiện Tý\n",
       "5      Phạm Ngọc Hiếu\n",
       "9         Trần Anh Vũ\n",
       "12      Võ Quốc Khánh"
      ]
     },
     "metadata": {},
     "output_type": "display_data"
    },
    {
     "output_type": "stream",
     "name": "stdout",
     "text": [
      "2021-09-10 00:41:35\n",
      "-------------------\n"
     ]
    }
   ],
   "metadata": {}
  },
  {
   "cell_type": "code",
   "execution_count": null,
   "source": [
    "pdf_gearvn.columns"
   ],
   "outputs": [
    {
     "data": {
      "text/plain": [
       "Index(['ID tích hợp', 'Thời gian', 'Kho lấy hàng', 'Thành phố', 'Quận huyện',\n",
       "       'Mã sản phẩm', 'Ngành', 'Hãng', 'Mã chung', 'Mã riêng', 'Chiết khấu',\n",
       "       'Giá', 'Giá sau CK', 'Số lượng', 'Giá trị đơn hàng', 'Tiền chiết khấu',\n",
       "       'Tiền đặt cọc', 'Tổng thu', 'Ghi chú của CSKH', 'Trạng thái',\n",
       "       'Chăm sóc KH', 'Thiếu', 'Thieu', 'DH thiếu', 'Ngày xác nhận',\n",
       "       'Thời gian xác nhận', 'Nguồn đơn hàng', 'Column1'],\n",
       "      dtype='object')"
      ]
     },
     "metadata": {},
     "output_type": "display_data"
    }
   ],
   "metadata": {}
  },
  {
   "cell_type": "code",
   "execution_count": null,
   "source": [
    "pdf_prod = pdf_gearvn[[\"Ngành\", \"Hãng\", \"Mã sản phẩm\", \"Kho lấy hàng\", \"Giá\"]].drop_duplicates()\n",
    "print(f\"Number of products: {pdf_prod.shape[0]}\")\n",
    "display(pdf_prod.head())\n",
    "\n",
    "print_runtime()"
   ],
   "outputs": [
    {
     "output_type": "stream",
     "name": "stdout",
     "text": [
      "Number of products: 2301\n"
     ]
    },
    {
     "data": {
      "text/html": [
       "<div>\n",
       "<style scoped>\n",
       "    .dataframe tbody tr th:only-of-type {\n",
       "        vertical-align: middle;\n",
       "    }\n",
       "\n",
       "    .dataframe tbody tr th {\n",
       "        vertical-align: top;\n",
       "    }\n",
       "\n",
       "    .dataframe thead th {\n",
       "        text-align: right;\n",
       "    }\n",
       "</style>\n",
       "<table border=\"1\" class=\"dataframe\">\n",
       "  <thead>\n",
       "    <tr style=\"text-align: right;\">\n",
       "      <th></th>\n",
       "      <th>Ngành</th>\n",
       "      <th>Hãng</th>\n",
       "      <th>Mã sản phẩm</th>\n",
       "      <th>Kho lấy hàng</th>\n",
       "      <th>Giá</th>\n",
       "    </tr>\n",
       "  </thead>\n",
       "  <tbody>\n",
       "    <tr>\n",
       "      <th>0</th>\n",
       "      <td>CHU</td>\n",
       "      <td>LOGITECH</td>\n",
       "      <td>CHU-LOG-G304</td>\n",
       "      <td>2 HCM-HHT-KD-V.2</td>\n",
       "      <td>790,000</td>\n",
       "    </tr>\n",
       "    <tr>\n",
       "      <th>1</th>\n",
       "      <td>KB</td>\n",
       "      <td>CORSAIR</td>\n",
       "      <td>KB-COR-K63-WIRELESS-MX-RD</td>\n",
       "      <td>2 HCM-HHT-KD-V.2</td>\n",
       "      <td>2,490,000</td>\n",
       "    </tr>\n",
       "    <tr>\n",
       "      <th>2</th>\n",
       "      <td>HDD</td>\n",
       "      <td>WD</td>\n",
       "      <td>HDD-WD-BLUE-1TB</td>\n",
       "      <td>8 HCM-CQ-KD</td>\n",
       "      <td>980,000</td>\n",
       "    </tr>\n",
       "    <tr>\n",
       "      <th>3</th>\n",
       "      <td>TAI</td>\n",
       "      <td>STEELSERIES</td>\n",
       "      <td>TAI-STE-ARCTIS-7-WHITE</td>\n",
       "      <td>2 HCM-HHT-KD-V.2</td>\n",
       "      <td>3,990,000</td>\n",
       "    </tr>\n",
       "    <tr>\n",
       "      <th>4</th>\n",
       "      <td>PK</td>\n",
       "      <td>KINGSTON</td>\n",
       "      <td>PK-KING-BINH-GIU-NHIET-BLK</td>\n",
       "      <td>2 HCM-HHT-KD-V.2</td>\n",
       "      <td>-</td>\n",
       "    </tr>\n",
       "  </tbody>\n",
       "</table>\n",
       "</div>"
      ],
      "text/plain": [
       "  Ngành         Hãng                 Mã sản phẩm      Kho lấy hàng        Giá\n",
       "0   CHU     LOGITECH                CHU-LOG-G304  2 HCM-HHT-KD-V.2    790,000\n",
       "1    KB      CORSAIR   KB-COR-K63-WIRELESS-MX-RD  2 HCM-HHT-KD-V.2  2,490,000\n",
       "2   HDD           WD             HDD-WD-BLUE-1TB       8 HCM-CQ-KD    980,000\n",
       "3   TAI  STEELSERIES      TAI-STE-ARCTIS-7-WHITE  2 HCM-HHT-KD-V.2  3,990,000\n",
       "4    PK     KINGSTON  PK-KING-BINH-GIU-NHIET-BLK  2 HCM-HHT-KD-V.2       -   "
      ]
     },
     "metadata": {},
     "output_type": "display_data"
    },
    {
     "output_type": "stream",
     "name": "stdout",
     "text": [
      "2021-09-10 00:41:42\n",
      "-------------------\n"
     ]
    }
   ],
   "metadata": {}
  },
  {
   "cell_type": "code",
   "execution_count": null,
   "source": [
    "# Product Code:\n",
    "pdf_prod[\"Ngành\"].unique()"
   ],
   "outputs": [
    {
     "data": {
      "text/plain": [
       "array(['CHU', 'KB', 'HDD', 'TAI', 'PK', 'MIC', 'CAM', 'TCG', 'VGA', 'PW',\n",
       "       'VO', 'CPU', 'RAM', 'SSD', 'MB', 'FAN', 'TBM', 'MAN', 'LC', 'LAP',\n",
       "       'TUI', 'BALO', 'GHE', 'CT', 'TN', 'LOA', 'BAN', 'PM', 'TAN',\n",
       "       'CONS', 'PC', 'tai', 'PRINTER', 'BUNDLE'], dtype=object)"
      ]
     },
     "metadata": {},
     "output_type": "display_data"
    }
   ],
   "metadata": {}
  },
  {
   "cell_type": "code",
   "execution_count": null,
   "source": [
    "pdf_order = pdf_gearvn[[\n",
    "    \"ID tích hợp\", \n",
    "    \"Thời gian\", # Sales created order\n",
    "    \"Giá trị đơn hàng\", \"Tiền chiết khấu\", \"Tiền đặt cọc\", \"Tổng thu\",\n",
    "    \"Ghi chú của CSKH\", \"Trạng thái\", \"Chăm sóc KH\", \"Thiếu\", \"Thieu\", \"DH thiếu\", \n",
    "    \"Ngày xác nhận\", # Storage confirmed timestamp\n",
    "    \"Nguồn đơn hàng\",\n",
    "]].fillna(\"0\").groupby([\"ID tích hợp\"], as_index=False).agg({\n",
    "    \"Thời gian\": \"max\", \n",
    "    \"Giá trị đơn hàng\": \"max\", \n",
    "    \"Tiền chiết khấu\": \"max\", \n",
    "    \"Tiền đặt cọc\": \"max\", \n",
    "    \"Tổng thu\": \"max\",\n",
    "    \"Ghi chú của CSKH\": \"max\", \n",
    "    \"Trạng thái\": \"max\", \n",
    "    \"Chăm sóc KH\": \"max\", \n",
    "    \"Thiếu\": \"max\", \n",
    "    \"Thieu\": \"max\", \n",
    "    \"DH thiếu\": \"max\", \n",
    "    \"Ngày xác nhận\": \"max\", \n",
    "    \"Nguồn đơn hàng\": \"max\"\n",
    "})\n",
    "\n",
    "print(f\"Number of order: {pdf_order.shape[0]}\")\n",
    "display(pdf_order.head())\n",
    "\n",
    "print_runtime()"
   ],
   "outputs": [
    {
     "output_type": "stream",
     "name": "stdout",
     "text": [
      "Number of order: 3400\n"
     ]
    },
    {
     "data": {
      "text/html": [
       "<div>\n",
       "<style scoped>\n",
       "    .dataframe tbody tr th:only-of-type {\n",
       "        vertical-align: middle;\n",
       "    }\n",
       "\n",
       "    .dataframe tbody tr th {\n",
       "        vertical-align: top;\n",
       "    }\n",
       "\n",
       "    .dataframe thead th {\n",
       "        text-align: right;\n",
       "    }\n",
       "</style>\n",
       "<table border=\"1\" class=\"dataframe\">\n",
       "  <thead>\n",
       "    <tr style=\"text-align: right;\">\n",
       "      <th></th>\n",
       "      <th>ID tích hợp</th>\n",
       "      <th>Thời gian</th>\n",
       "      <th>Giá trị đơn hàng</th>\n",
       "      <th>Tiền chiết khấu</th>\n",
       "      <th>Tiền đặt cọc</th>\n",
       "      <th>Tổng thu</th>\n",
       "      <th>Ghi chú của CSKH</th>\n",
       "      <th>Trạng thái</th>\n",
       "      <th>Chăm sóc KH</th>\n",
       "      <th>Thiếu</th>\n",
       "      <th>Thieu</th>\n",
       "      <th>DH thiếu</th>\n",
       "      <th>Ngày xác nhận</th>\n",
       "      <th>Nguồn đơn hàng</th>\n",
       "    </tr>\n",
       "  </thead>\n",
       "  <tbody>\n",
       "    <tr>\n",
       "      <th>0</th>\n",
       "      <td>hd108850-9</td>\n",
       "      <td>05-02-21 19:46</td>\n",
       "      <td>294,000,000</td>\n",
       "      <td>0</td>\n",
       "      <td>0</td>\n",
       "      <td>294,000,000</td>\n",
       "      <td>0</td>\n",
       "      <td>Hệ thống hủy</td>\n",
       "      <td>Nguyễn Anh Tuấn</td>\n",
       "      <td>1</td>\n",
       "      <td>-</td>\n",
       "      <td>1</td>\n",
       "      <td>06-02-21 7:58</td>\n",
       "      <td>OTHER</td>\n",
       "    </tr>\n",
       "    <tr>\n",
       "      <th>1</th>\n",
       "      <td>hd170656-6</td>\n",
       "      <td>06-02-21 18:11</td>\n",
       "      <td>193,500,000</td>\n",
       "      <td>1,270,000</td>\n",
       "      <td>0</td>\n",
       "      <td>193,500,000</td>\n",
       "      <td>0</td>\n",
       "      <td>Hệ thống hủy</td>\n",
       "      <td>Nguyễn Thế Vinh</td>\n",
       "      <td>-</td>\n",
       "      <td>-</td>\n",
       "      <td>-</td>\n",
       "      <td>06-02-21 18:17</td>\n",
       "      <td>OTHER</td>\n",
       "    </tr>\n",
       "    <tr>\n",
       "      <th>2</th>\n",
       "      <td>hd203577-1</td>\n",
       "      <td>01-02-21 8:11</td>\n",
       "      <td>17,830,000</td>\n",
       "      <td>0</td>\n",
       "      <td>0</td>\n",
       "      <td>17,830,000</td>\n",
       "      <td>0</td>\n",
       "      <td>Thành công</td>\n",
       "      <td>Nguyễn Thế Nam</td>\n",
       "      <td>-</td>\n",
       "      <td>-</td>\n",
       "      <td>-</td>\n",
       "      <td>02-02-21 12:52</td>\n",
       "      <td>SHOWROOMHHT</td>\n",
       "    </tr>\n",
       "    <tr>\n",
       "      <th>3</th>\n",
       "      <td>hd203879-1</td>\n",
       "      <td>01-02-21 8:43</td>\n",
       "      <td>0</td>\n",
       "      <td>9,000,000</td>\n",
       "      <td>0</td>\n",
       "      <td>0</td>\n",
       "      <td>0</td>\n",
       "      <td>Thành công</td>\n",
       "      <td>Lê Quang Hoàng Dũng</td>\n",
       "      <td>-</td>\n",
       "      <td>-</td>\n",
       "      <td>-</td>\n",
       "      <td>02-04-21 9:05</td>\n",
       "      <td>SHOWROOMHHT</td>\n",
       "    </tr>\n",
       "    <tr>\n",
       "      <th>4</th>\n",
       "      <td>hd203913-2</td>\n",
       "      <td>05-02-21 18:41</td>\n",
       "      <td>147,250,003</td>\n",
       "      <td>4,329,997</td>\n",
       "      <td>0</td>\n",
       "      <td>147,250,003</td>\n",
       "      <td>0</td>\n",
       "      <td>Hệ thống hủy</td>\n",
       "      <td>0</td>\n",
       "      <td>-</td>\n",
       "      <td>-</td>\n",
       "      <td>-</td>\n",
       "      <td>0</td>\n",
       "      <td>OTHER</td>\n",
       "    </tr>\n",
       "  </tbody>\n",
       "</table>\n",
       "</div>"
      ],
      "text/plain": [
       "  ID tích hợp       Thời gian Giá trị đơn hàng Tiền chiết khấu Tiền đặt cọc  \\\n",
       "0  hd108850-9  05-02-21 19:46      294,000,000               0            0   \n",
       "1  hd170656-6  06-02-21 18:11      193,500,000       1,270,000            0   \n",
       "2  hd203577-1   01-02-21 8:11       17,830,000               0            0   \n",
       "3  hd203879-1   01-02-21 8:43                0       9,000,000            0   \n",
       "4  hd203913-2  05-02-21 18:41      147,250,003       4,329,997            0   \n",
       "\n",
       "      Tổng thu Ghi chú của CSKH    Trạng thái          Chăm sóc KH  Thiếu  \\\n",
       "0  294,000,000                0  Hệ thống hủy      Nguyễn Anh Tuấn      1   \n",
       "1  193,500,000                0  Hệ thống hủy      Nguyễn Thế Vinh   -      \n",
       "2   17,830,000                0    Thành công       Nguyễn Thế Nam   -      \n",
       "3            0                0    Thành công  Lê Quang Hoàng Dũng   -      \n",
       "4  147,250,003                0  Hệ thống hủy                    0   -      \n",
       "\n",
       "   Thieu DH thiếu   Ngày xác nhận Nguồn đơn hàng  \n",
       "0   -           1   06-02-21 7:58          OTHER  \n",
       "1   -        -     06-02-21 18:17          OTHER  \n",
       "2   -        -     02-02-21 12:52    SHOWROOMHHT  \n",
       "3   -        -      02-04-21 9:05    SHOWROOMHHT  \n",
       "4   -        -                  0          OTHER  "
      ]
     },
     "metadata": {},
     "output_type": "display_data"
    },
    {
     "output_type": "stream",
     "name": "stdout",
     "text": [
      "2021-09-10 00:41:55\n",
      "-------------------\n"
     ]
    }
   ],
   "metadata": {}
  },
  {
   "cell_type": "code",
   "execution_count": null,
   "source": [
    "pdf_confirm_order = pdf_order[pdf_gearvn[\"Trạng thái\"]==\"Thành công\"]\n",
    "print(pdf_confirm_order.shape)\n",
    "print_runtime()"
   ],
   "outputs": [
    {
     "output_type": "stream",
     "name": "stdout",
     "text": [
      "(2605, 14)\n",
      "2021-09-10 00:43:55\n",
      "-------------------\n"
     ]
    },
    {
     "output_type": "stream",
     "name": "stderr",
     "text": [
      "/Users/newuser/anaconda3/lib/python3.6/site-packages/ipykernel_launcher.py:1: UserWarning: Boolean Series key will be reindexed to match DataFrame index.\n",
      "  \"\"\"Entry point for launching an IPython kernel.\n"
     ]
    }
   ],
   "metadata": {}
  },
  {
   "cell_type": "code",
   "execution_count": null,
   "source": [
    "confirm_rate = pdf_confirm_order.shape[0]/pdf_order.shape[0]\n",
    "print(f\"Confirm rated: {confirm_rate}\")\n",
    "print_runtime()"
   ],
   "outputs": [
    {
     "output_type": "stream",
     "name": "stdout",
     "text": [
      "Confirm rated: 0.7661764705882353\n",
      "2021-09-10 00:45:01\n",
      "-------------------\n"
     ]
    }
   ],
   "metadata": {}
  },
  {
   "cell_type": "markdown",
   "source": [
    "# TODO:\n",
    "- pdf_order_detail\n",
    "- Add column to show online and offline orders "
   ],
   "metadata": {}
  },
  {
   "cell_type": "markdown",
   "source": [
    "# TODO: Prepare logic of generating data for below reports:\n",
    "- Ratio of online and offline over total revenue. From Showroom's Sales are Offline.\n",
    "- Ratio of Gaming Gears included in full PC and separated \n"
   ],
   "metadata": {}
  },
  {
   "cell_type": "code",
   "execution_count": null,
   "source": [],
   "outputs": [],
   "metadata": {}
  }
 ],
 "metadata": {
  "kernelspec": {
   "name": "python3",
   "display_name": "Python 3.6.4 64-bit ('base': conda)"
  },
  "language_info": {
   "codemirror_mode": {
    "name": "ipython",
    "version": 3
   },
   "file_extension": ".py",
   "mimetype": "text/x-python",
   "name": "python",
   "nbconvert_exporter": "python",
   "pygments_lexer": "ipython3",
   "version": "3.6.4"
  },
  "interpreter": {
   "hash": "4a48f5fbe44962b83128a6bd55f2b8df717b44765d541ac20bf54c6160447a23"
  }
 },
 "nbformat": 4,
 "nbformat_minor": 2
}